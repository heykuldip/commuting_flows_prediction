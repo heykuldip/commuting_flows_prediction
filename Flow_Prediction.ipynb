{
 "cells": [
  {
   "cell_type": "code",
   "execution_count": null,
   "metadata": {},
   "outputs": [],
   "source": [
    "import pandas as pd\n",
    "import plotly.express as px\n",
    "from plotly.subplots import make_subplots\n",
    "import plotly.graph_objects as go\n",
    "import plotly.io as pio\n",
    "\n",
    "import numpy as np\n",
    "\n",
    "from urllib.request import urlopen\n",
    "import json\n",
    "import geopandas\n",
    "from collections import OrderedDict\n",
    "from math import floor"
   ]
  },
  {
   "cell_type": "code",
   "execution_count": null,
   "metadata": {},
   "outputs": [],
   "source": [
    "nyc_census = geopandas.read_file('nyc_data/nyc_census_tracts/nyc_census_2010.shp')\n",
    "nyc_census.head()\n",
    "nyc_all_geoids = nyc_census['GEOID']\n",
    "nyc_all_geoids = nyc_all_geoids.astype(int)\n",
    "nyc_all_geoids.shape"
   ]
  },
  {
   "cell_type": "code",
   "execution_count": null,
   "metadata": {},
   "outputs": [],
   "source": [
    "with open('nyc_data/nyc_census_tracts/nyc_tracts.geojson') as response:\n",
    "    nyc_tracts = json.load(response)"
   ]
  },
  {
   "attachments": {},
   "cell_type": "markdown",
   "metadata": {},
   "source": [
    "Processing test set ground truth flows:"
   ]
  },
  {
   "cell_type": "code",
   "execution_count": null,
   "metadata": {},
   "outputs": [],
   "source": [
    "gt_flows = pd.read_csv('nyc_data/LODES/CommutingFlow_2015_test_exp.csv')  \n",
    "gt_flows = gt_flows.rename(columns={'count' : 'gt_count'})\n",
    "gt_flows.shape"
   ]
  },
  {
   "cell_type": "code",
   "execution_count": null,
   "metadata": {},
   "outputs": [],
   "source": [
    "gt_orig_all = gt_flows.groupby(['h_geoid'], as_index=False).sum()\n",
    "gt_dest_all = gt_flows.groupby(['w_geoid'], as_index=False).sum()"
   ]
  },
  {
   "cell_type": "code",
   "execution_count": null,
   "metadata": {},
   "outputs": [],
   "source": [
    "gt_orig_all[gt_orig_all['gt_count']==0].shape"
   ]
  },
  {
   "cell_type": "code",
   "execution_count": null,
   "metadata": {},
   "outputs": [],
   "source": [
    "gt_dest_all[gt_dest_all['gt_count']==0].shape"
   ]
  },
  {
   "attachments": {},
   "cell_type": "markdown",
   "metadata": {},
   "source": [
    "32 out of 2168 destination tracts where people are not going at all!"
   ]
  },
  {
   "cell_type": "code",
   "execution_count": null,
   "metadata": {},
   "outputs": [],
   "source": [
    "gt_dest_all.loc[gt_dest_all['gt_count']==0,'gt_count'] = 1\n",
    "gt_dest_all[gt_dest_all['gt_count']==0].shape"
   ]
  },
  {
   "attachments": {},
   "cell_type": "markdown",
   "metadata": {},
   "source": [
    "Processing test set prediction flows using OSM features:   "
   ]
  },
  {
   "cell_type": "code",
   "execution_count": null,
   "metadata": {},
   "outputs": [],
   "source": [
    "pred_flows = pd.read_csv('nyc_predicted_flows_exp.csv')\n",
    "pred_flows.shape"
   ]
  },
  {
   "cell_type": "code",
   "execution_count": null,
   "metadata": {},
   "outputs": [],
   "source": [
    "gt_flows[gt_flows['gt_count'] == 0].shape"
   ]
  },
  {
   "cell_type": "code",
   "execution_count": null,
   "metadata": {},
   "outputs": [],
   "source": [
    "pred_flows[pred_flows.pred_count == 0].shape"
   ]
  },
  {
   "cell_type": "code",
   "execution_count": null,
   "metadata": {},
   "outputs": [],
   "source": [
    "pred_flows[pred_flows['pred_count'] < 0]['pred_count'].shape"
   ]
  },
  {
   "cell_type": "code",
   "execution_count": null,
   "metadata": {},
   "outputs": [],
   "source": [
    "gt_flows[(pred_flows['pred_count'] < 0) & (gt_flows.gt_count==0)].shape"
   ]
  },
  {
   "cell_type": "code",
   "execution_count": null,
   "metadata": {},
   "outputs": [],
   "source": [
    "pred_flows[pred_flows['pred_count'] < 0]['pred_count'].sum()"
   ]
  },
  {
   "cell_type": "code",
   "execution_count": null,
   "metadata": {},
   "outputs": [],
   "source": [
    "pred_flows[pred_flows['pred_count'] < 0].h_geoid.unique().shape"
   ]
  },
  {
   "cell_type": "code",
   "execution_count": null,
   "metadata": {},
   "outputs": [],
   "source": [
    "pred_flows[pred_flows['pred_count'] < 0].w_geoid.unique().shape"
   ]
  },
  {
   "cell_type": "code",
   "execution_count": null,
   "metadata": {},
   "outputs": [],
   "source": [
    "pred_flows.loc[pred_flows['pred_count'] < 0, 'pred_count'] = 0\n",
    "pred_flows[pred_flows['pred_count'] < 0]['pred_count'].sum()"
   ]
  },
  {
   "cell_type": "code",
   "execution_count": null,
   "metadata": {},
   "outputs": [],
   "source": [
    "gt_flows.shape"
   ]
  },
  {
   "cell_type": "code",
   "execution_count": null,
   "metadata": {},
   "outputs": [],
   "source": [
    "gt_flows[gt_flows['gt_count'] != 0].shape"
   ]
  },
  {
   "cell_type": "code",
   "execution_count": null,
   "metadata": {},
   "outputs": [],
   "source": [
    "gt_flows[gt_flows['gt_count'] == 0].shape"
   ]
  },
  {
   "cell_type": "code",
   "execution_count": null,
   "metadata": {},
   "outputs": [],
   "source": [
    "gt_flows[(pred_flows['pred_count'] == 0) & (gt_flows.gt_count==0)].shape"
   ]
  },
  {
   "cell_type": "code",
   "execution_count": null,
   "metadata": {},
   "outputs": [],
   "source": [
    "gt_flows[(pred_flows['pred_count'] != 0) & (gt_flows.gt_count!=0)].shape"
   ]
  },
  {
   "cell_type": "code",
   "execution_count": null,
   "metadata": {},
   "outputs": [],
   "source": [
    "gt_flows['gt_count'].sum()"
   ]
  },
  {
   "cell_type": "code",
   "execution_count": null,
   "metadata": {},
   "outputs": [],
   "source": [
    "pred_flows['pred_count'].sum()"
   ]
  },
  {
   "cell_type": "code",
   "execution_count": null,
   "metadata": {},
   "outputs": [],
   "source": [
    "pred_flows.pred_count.round(0).sum()"
   ]
  },
  {
   "cell_type": "code",
   "execution_count": null,
   "metadata": {},
   "outputs": [],
   "source": [
    "pred_orig_all = pred_flows.groupby(['h_geoid'], as_index=False).sum()\n",
    "pred_dest_all = pred_flows.groupby(['w_geoid'], as_index=False).sum()"
   ]
  },
  {
   "cell_type": "code",
   "execution_count": null,
   "metadata": {},
   "outputs": [],
   "source": [
    "gt_orig_all['gt_count'].sum()"
   ]
  },
  {
   "cell_type": "code",
   "execution_count": null,
   "metadata": {},
   "outputs": [],
   "source": [
    "pred_orig_all['pred_count'].sum()"
   ]
  },
  {
   "cell_type": "code",
   "execution_count": null,
   "metadata": {},
   "outputs": [],
   "source": [
    "gt_dest_all['gt_count'].sum()"
   ]
  },
  {
   "cell_type": "code",
   "execution_count": null,
   "metadata": {},
   "outputs": [],
   "source": [
    "pred_dest_all['pred_count'].sum()"
   ]
  },
  {
   "cell_type": "code",
   "execution_count": null,
   "metadata": {},
   "outputs": [],
   "source": [
    "# delta percentage of all origin flows\n",
    "\n",
    "delta_orig_all = gt_orig_all[['h_geoid', 'gt_count']]\n",
    "delta_orig_all['pred_count'] = pred_orig_all['pred_count']\n",
    "delta_orig_all['delta'] = pred_orig_all['pred_count'] - gt_orig_all['gt_count']\n",
    "delta_orig_all['delta_percent'] = ((delta_orig_all['delta'] / delta_orig_all['gt_count'])*100)\n",
    "delta_orig_all = delta_orig_all.sort_values(by=['delta_percent'], ascending=False)\n",
    "delta_orig_all"
   ]
  },
  {
   "cell_type": "code",
   "execution_count": null,
   "metadata": {},
   "outputs": [],
   "source": [
    "bin_min = delta_orig_all.delta_percent.min()\n",
    "bin_max = delta_orig_all.delta_percent.max()\n",
    "print(bin_min)\n",
    "print(bin_max)"
   ]
  },
  {
   "cell_type": "code",
   "execution_count": null,
   "metadata": {},
   "outputs": [],
   "source": [
    "bins = [-71,-50.000000001,-30.000000001,-10.000000001,10.000000001,30.000000001,50.000000001,\n",
    "        70.000000001,90.000000001,bin_max]\n",
    "labels = ['- 51-70%', '- 31-50%','- 11-30%', '± 10%','+ 11-30%', '+ 31-50%','+ 51-70%','+ 71-90%',' > 90%']"
   ]
  },
  {
   "cell_type": "code",
   "execution_count": null,
   "metadata": {},
   "outputs": [],
   "source": [
    "pd.cut(delta_orig_all['delta_percent'], precision=9,\n",
    "                                bins=bins,retbins=True,include_lowest=True)[0].cat.categories"
   ]
  },
  {
   "cell_type": "code",
   "execution_count": null,
   "metadata": {},
   "outputs": [],
   "source": [
    "delta_orig_all_binned = delta_orig_all.copy()\n",
    "delta_orig_all_binned.insert(delta_orig_all_binned.shape[1],\n",
    "                        'delta_label',\n",
    "                        pd.cut(delta_orig_all_binned['delta_percent'], precision=9,\n",
    "                                bins=bins,\n",
    "                                labels=labels, include_lowest = True))\n",
    "\n",
    "delta_orig_all_binned"
   ]
  },
  {
   "cell_type": "code",
   "execution_count": null,
   "metadata": {},
   "outputs": [],
   "source": [
    "# delta percentage of all destination flows\n",
    "\n",
    "delta_dest_all = gt_dest_all[['w_geoid', 'gt_count']]\n",
    "delta_dest_all['pred_count'] = pred_dest_all['pred_count']\n",
    "delta_dest_all['delta'] = pred_dest_all['pred_count'] - gt_dest_all['gt_count']\n",
    "delta_dest_all['delta_percent'] = ((delta_dest_all['delta'] / delta_dest_all['gt_count'])*100)\n",
    "delta_dest_all = delta_dest_all.sort_values(by=['delta_percent'], ascending=False)\n",
    "delta_dest_all"
   ]
  },
  {
   "cell_type": "code",
   "execution_count": null,
   "metadata": {},
   "outputs": [],
   "source": [
    "bin_min = delta_dest_all.delta_percent.min()\n",
    "bin_max = delta_dest_all.delta_percent.max()\n",
    "print(bin_min)\n",
    "print(bin_max)"
   ]
  },
  {
   "cell_type": "code",
   "execution_count": null,
   "metadata": {},
   "outputs": [],
   "source": [
    "bins = [-91,-70.000000001,-50.000000001,-30.000000001,-10.000000001,10.000000001,30.000000001,\n",
    "        50.000000001,70.000000001,90.000000001,bin_max]\n",
    "labels = ['- 71-90%', '- 51-70%', '- 31-50%','- 11-30%', '± 10%','+ 11-30%', '+ 31-50%',\n",
    "          '+ 51-70%','+ 71-90%',' > 90%']"
   ]
  },
  {
   "cell_type": "code",
   "execution_count": null,
   "metadata": {},
   "outputs": [],
   "source": [
    "pd.cut(delta_dest_all['delta_percent'], precision=9,\n",
    "                                bins=bins,retbins=True,include_lowest=True)[0].cat.categories"
   ]
  },
  {
   "cell_type": "code",
   "execution_count": null,
   "metadata": {},
   "outputs": [],
   "source": [
    "delta_dest_all_binned = delta_dest_all.copy()\n",
    "delta_dest_all_binned.insert(delta_dest_all_binned.shape[1],\n",
    "                        'delta_label',\n",
    "                        pd.cut(delta_dest_all_binned['delta_percent'], precision=9,\n",
    "                                bins=bins,\n",
    "                                labels=labels, include_lowest = True))\n",
    "\n",
    "delta_dest_all_binned"
   ]
  },
  {
   "cell_type": "markdown",
   "metadata": {},
   "source": [
    "Processing test set prediction flows using GMEL features:  "
   ]
  },
  {
   "cell_type": "code",
   "execution_count": null,
   "metadata": {},
   "outputs": [],
   "source": [
    "pred_flows_GMEL = pd.read_csv('nyc_predicted_flows_exp_GMEL.csv')\n",
    "pred_flows_GMEL.shape"
   ]
  },
  {
   "cell_type": "code",
   "execution_count": null,
   "metadata": {},
   "outputs": [],
   "source": [
    "pred_flows_GMEL[pred_flows_GMEL['pred_count'] < 0]['pred_count'].sum()"
   ]
  },
  {
   "cell_type": "code",
   "execution_count": null,
   "metadata": {},
   "outputs": [],
   "source": [
    "pred_flows_GMEL.loc[pred_flows_GMEL['pred_count'] < 0, 'pred_count'] = 0\n",
    "pred_flows_GMEL[pred_flows_GMEL['pred_count'] < 0]['pred_count'].sum()"
   ]
  },
  {
   "cell_type": "code",
   "execution_count": null,
   "metadata": {},
   "outputs": [],
   "source": [
    "gt_flows['gt_count'].sum()"
   ]
  },
  {
   "cell_type": "code",
   "execution_count": null,
   "metadata": {},
   "outputs": [],
   "source": [
    "pred_flows_GMEL['pred_count'].sum()"
   ]
  },
  {
   "cell_type": "code",
   "execution_count": null,
   "metadata": {},
   "outputs": [],
   "source": [
    "pred_orig_all_GMEL = pred_flows_GMEL.groupby(['h_geoid'], as_index=False).sum()\n",
    "pred_dest_all_GMEL = pred_flows_GMEL.groupby(['w_geoid'], as_index=False).sum()"
   ]
  },
  {
   "cell_type": "code",
   "execution_count": null,
   "metadata": {},
   "outputs": [],
   "source": [
    "gt_orig_all['gt_count'].sum()"
   ]
  },
  {
   "cell_type": "code",
   "execution_count": null,
   "metadata": {},
   "outputs": [],
   "source": [
    "pred_orig_all_GMEL['pred_count'].sum()"
   ]
  },
  {
   "cell_type": "code",
   "execution_count": null,
   "metadata": {},
   "outputs": [],
   "source": [
    "gt_dest_all['gt_count'].sum()"
   ]
  },
  {
   "cell_type": "code",
   "execution_count": null,
   "metadata": {},
   "outputs": [],
   "source": [
    "pred_dest_all_GMEL['pred_count'].sum()"
   ]
  },
  {
   "cell_type": "code",
   "execution_count": null,
   "metadata": {},
   "outputs": [],
   "source": [
    "# delta percentage of all GMEL origin flows\n",
    "\n",
    "delta_orig_all_GMEL = gt_orig_all[['h_geoid', 'gt_count']]\n",
    "delta_orig_all_GMEL['pred_count'] = pred_orig_all_GMEL['pred_count']\n",
    "delta_orig_all_GMEL['delta'] = pred_orig_all_GMEL['pred_count'] - gt_orig_all['gt_count']\n",
    "delta_orig_all_GMEL['delta_percent'] = ((delta_orig_all_GMEL['delta'] / delta_orig_all_GMEL['gt_count'])*100)\n",
    "delta_orig_all_GMEL = delta_orig_all_GMEL.sort_values(by=['delta_percent'], ascending=False)\n",
    "delta_orig_all_GMEL"
   ]
  },
  {
   "cell_type": "code",
   "execution_count": null,
   "metadata": {},
   "outputs": [],
   "source": [
    "bin_min = delta_orig_all_GMEL.delta_percent.min()\n",
    "bin_max = delta_orig_all_GMEL.delta_percent.max()\n",
    "print(bin_min)\n",
    "print(bin_max)"
   ]
  },
  {
   "cell_type": "code",
   "execution_count": null,
   "metadata": {},
   "outputs": [],
   "source": [
    "bins = [-71,-50.000000001,-30.000000001,-10.000000001,10.000000001,30.000000001,50.000000001,\n",
    "        70.000000001,90.000000001,bin_max]\n",
    "labels = ['- 51-70%', '- 31-50%','- 11-30%', '± 10%','+ 11-30%', '+ 31-50%','+ 51-70%','+ 71-90%',' > 90%']"
   ]
  },
  {
   "cell_type": "code",
   "execution_count": null,
   "metadata": {},
   "outputs": [],
   "source": [
    "pd.cut(delta_orig_all_GMEL['delta_percent'], precision=9,\n",
    "                                bins=bins,retbins=True,include_lowest=True)[0].cat.categories"
   ]
  },
  {
   "cell_type": "code",
   "execution_count": null,
   "metadata": {},
   "outputs": [],
   "source": [
    "delta_orig_all_binned_GMEL = delta_orig_all_GMEL.copy()\n",
    "delta_orig_all_binned_GMEL.insert(delta_orig_all_binned_GMEL.shape[1],\n",
    "                        'delta_label',\n",
    "                        pd.cut(delta_orig_all_binned_GMEL['delta_percent'], precision=9,\n",
    "                                bins=bins,\n",
    "                                labels=labels, include_lowest = True))\n",
    "\n",
    "delta_orig_all_binned_GMEL"
   ]
  },
  {
   "cell_type": "code",
   "execution_count": null,
   "metadata": {},
   "outputs": [],
   "source": [
    "# delta percentage of all GMEL destination flows\n",
    "\n",
    "delta_dest_all_GMEL = gt_dest_all[['w_geoid', 'gt_count']]\n",
    "delta_dest_all_GMEL['pred_count'] = pred_dest_all_GMEL['pred_count']\n",
    "delta_dest_all_GMEL['delta'] = pred_dest_all_GMEL['pred_count'] - gt_dest_all['gt_count']\n",
    "delta_dest_all_GMEL['delta_percent'] = ((delta_dest_all_GMEL['delta'] / delta_dest_all_GMEL['gt_count'])*100)\n",
    "delta_dest_all_GMEL = delta_dest_all_GMEL.sort_values(by=['delta_percent'], ascending=False)\n",
    "delta_dest_all_GMEL"
   ]
  },
  {
   "cell_type": "code",
   "execution_count": null,
   "metadata": {},
   "outputs": [],
   "source": [
    "bin_min = delta_dest_all.delta_percent.min()\n",
    "bin_max = delta_dest_all.delta_percent.max()\n",
    "print(bin_min)\n",
    "print(bin_max)"
   ]
  },
  {
   "cell_type": "code",
   "execution_count": null,
   "metadata": {},
   "outputs": [],
   "source": [
    "bins = [-91,-70.000000001,-50.000000001,-30.000000001,-10.000000001,10.000000001,30.000000001,\n",
    "        50.000000001,70.000000001,90.000000001,bin_max]\n",
    "labels = ['- 71-90%', '- 51-70%', '- 31-50%','- 11-30%', '± 10%','+ 11-30%', '+ 31-50%',\n",
    "          '+ 51-70%','+ 71-90%',' > 90%']"
   ]
  },
  {
   "cell_type": "code",
   "execution_count": null,
   "metadata": {},
   "outputs": [],
   "source": [
    "pd.cut(delta_dest_all_GMEL['delta_percent'], precision=9,\n",
    "                                bins=bins,retbins=True,include_lowest=True)[0].cat.categories"
   ]
  },
  {
   "cell_type": "code",
   "execution_count": null,
   "metadata": {},
   "outputs": [],
   "source": [
    "delta_dest_all_binned_GMEL = delta_dest_all_GMEL.copy()\n",
    "delta_dest_all_binned_GMEL.insert(delta_dest_all_binned_GMEL.shape[1],\n",
    "                        'delta_label',\n",
    "                        pd.cut(delta_dest_all_binned_GMEL['delta_percent'], precision=9,\n",
    "                                bins=bins,\n",
    "                                labels=labels, include_lowest = True))\n",
    "\n",
    "delta_dest_all_binned_GMEL"
   ]
  },
  {
   "cell_type": "code",
   "execution_count": null,
   "metadata": {},
   "outputs": [],
   "source": [
    "delta_orig_all_binned.groupby('delta_label').count()"
   ]
  },
  {
   "cell_type": "code",
   "execution_count": null,
   "metadata": {},
   "outputs": [],
   "source": [
    "delta_orig_all_binned_GMEL.groupby('delta_label').count()"
   ]
  },
  {
   "cell_type": "code",
   "execution_count": null,
   "metadata": {},
   "outputs": [],
   "source": [
    "delta_dest_all_binned.groupby('delta_label').count()"
   ]
  },
  {
   "cell_type": "code",
   "execution_count": null,
   "metadata": {},
   "outputs": [],
   "source": [
    "delta_dest_all_binned_GMEL.groupby('delta_label').count()"
   ]
  },
  {
   "attachments": {},
   "cell_type": "markdown",
   "metadata": {},
   "source": [
    "Choropleth maps"
   ]
  },
  {
   "cell_type": "code",
   "execution_count": null,
   "metadata": {},
   "outputs": [],
   "source": [
    "# delta percentage of all origin flows using OSM features\n",
    "\n",
    "fig = px.choropleth(delta_orig_all_binned, geojson=nyc_tracts, locations='h_geoid', featureidkey=\"properties.GEOID\",\\\n",
    "                 color='delta_label',\n",
    "                 color_discrete_sequence=[\n",
    "                    'rgb(188,215,239)','rgb(107,174,214)','rgb(66,146,198)','rgb(33,113,181)',\n",
    "                    'rgb(8,48,107)','rgb(124, 252, 0)','rgb(103,0,13)','rgb(203,24,29)','rgb(251,106,74)'])\n",
    "\n",
    "fig.update_geos(fitbounds=\"locations\", visible=False)\n",
    "fig.update_traces(marker_line_width=0.1, marker_opacity=0.8)\n",
    "fig.update_layout(margin={\"r\":0,\"t\":0,\"l\":0,\"b\":0})\n",
    "fig.update_layout(width =1024, height=720, font_size=20);  #tune the font_size to your needs \n",
    "fig.update_layout(legend_x=0.8) \n",
    "fig.update_layout(legend_y=0.8) \n",
    "fig.update_layout(legend=dict(font=dict(size= 16)))\n",
    "fig.update_layout(legend_title='Delta Percentage')\n",
    "#fig.show()\n",
    "\n",
    "#pio.write_image(fig, 'nyc_osm_origin_map.pdf')"
   ]
  },
  {
   "cell_type": "code",
   "execution_count": null,
   "metadata": {},
   "outputs": [],
   "source": [
    "# delta percentage of all origin flows using GMEL features\n",
    "\n",
    "fig = px.choropleth(delta_orig_all_binned_GMEL, geojson=nyc_tracts, locations='h_geoid', featureidkey=\"properties.GEOID\",\\\n",
    "                 color='delta_label',\n",
    "                 color_discrete_sequence=[\n",
    "                    'rgb(188,215,239)','rgb(107,174,214)','rgb(66,146,198)','rgb(33,113,181)',\n",
    "                    'rgb(8,48,107)','rgb(124, 252, 0)','rgb(103,0,13)','rgb(203,24,29)','rgb(251,106,74)'])\n",
    "\n",
    "fig.update_geos(fitbounds=\"locations\", visible=False)\n",
    "fig.update_traces(marker_line_width=0.1, marker_opacity=0.8)\n",
    "fig.update_layout(margin={\"r\":0,\"t\":0,\"l\":0,\"b\":0})\n",
    "fig.update_layout(width =1024, height=720, font_size=20);  #tune the font_size to your needs \n",
    "fig.update_layout(legend_x=0.8) \n",
    "fig.update_layout(legend_y=0.8) \n",
    "fig.update_layout(legend=dict(font=dict(size= 16)))\n",
    "fig.update_layout(legend_title='Delta Percentage')\n",
    "#fig.show()\n",
    "\n",
    "#pio.write_image(fig, 'nyc_gmel_origin_map.pdf')"
   ]
  },
  {
   "cell_type": "code",
   "execution_count": null,
   "metadata": {},
   "outputs": [],
   "source": [
    "# delta percentage of all destination flows using OSM features\n",
    "\n",
    "fig = px.choropleth(delta_dest_all_binned, geojson=nyc_tracts, locations='w_geoid', featureidkey=\"properties.GEOID\",\\\n",
    "                 color='delta_label',\n",
    "                 color_discrete_sequence=[\n",
    "                    'rgb(188,215,239)','rgb(107,174,214)','rgb(66,146,198)','rgb(33,113,181)','rgb(8,48,107)',\n",
    "                    'rgb(124, 252, 0)','rgb(103,0,13)','rgb(203,24,29)','rgb(234,106,74)','rgb(251,106,74)'])\n",
    "\n",
    "fig.update_geos(fitbounds=\"locations\", visible=False)\n",
    "fig.update_traces(marker_line_width=0.1, marker_opacity=0.8)\n",
    "fig.update_layout(margin={\"r\":0,\"t\":0,\"l\":0,\"b\":0})\n",
    "fig.update_layout(width =1024, height=720, font_size=20);  #tune the font_size to your needs \n",
    "fig.update_layout(legend_x=0.8) \n",
    "fig.update_layout(legend_y=0.8) \n",
    "fig.update_layout(legend=dict(font=dict(size= 16)))\n",
    "fig.update_layout(legend_title='Delta Percentage')\n",
    "\n",
    "#pio.write_image(fig, 'nyc_osm_destination_map.pdf')"
   ]
  },
  {
   "cell_type": "code",
   "execution_count": null,
   "metadata": {},
   "outputs": [],
   "source": [
    "# delta percentage of all destination flows using GMEL features\n",
    "\n",
    "fig = px.choropleth(delta_dest_all_binned_GMEL, geojson=nyc_tracts, locations='w_geoid', featureidkey=\"properties.GEOID\",\\\n",
    "                 color='delta_label',\n",
    "                 color_discrete_sequence=[\n",
    "                    'rgb(188,215,239)','rgb(107,174,214)','rgb(66,146,198)','rgb(33,113,181)','rgb(8,48,107)',\n",
    "                    'rgb(124, 252, 0)','rgb(103,0,13)','rgb(203,24,29)','rgb(234,106,74)','rgb(251,106,74)'])\n",
    "\n",
    "fig.update_geos(fitbounds=\"locations\", visible=False)\n",
    "fig.update_traces(marker_line_width=0.1, marker_opacity=0.8)\n",
    "fig.update_layout(margin={\"r\":0,\"t\":0,\"l\":0,\"b\":0})\n",
    "fig.update_layout(width =1024, height=720, font_size=20);  #tune the font_size to your needs \n",
    "fig.update_layout(legend_x=0.8) \n",
    "fig.update_layout(legend_y=0.8) \n",
    "fig.update_layout(legend=dict(font=dict(size= 16)))\n",
    "fig.update_layout(legend_title='Delta Percentage')\n",
    "\n",
    "#pio.write_image(fig, 'nyc_gmel_destination_map.pdf')"
   ]
  },
  {
   "attachments": {},
   "cell_type": "markdown",
   "metadata": {},
   "source": [
    "Histograms with 10% bins"
   ]
  },
  {
   "cell_type": "code",
   "execution_count": null,
   "metadata": {},
   "outputs": [],
   "source": [
    "# OSM orign flows\n",
    "\n",
    "delta_below_zero = delta_orig_all[delta_orig_all.delta_percent < 0]\n",
    "delta_equals_zero = delta_orig_all[delta_orig_all.delta_percent == 0]\n",
    "delta_above_zero = delta_orig_all[delta_orig_all.delta_percent > 0]\n",
    "print(delta_below_zero.shape)\n",
    "print(delta_equals_zero.shape)\n",
    "print(delta_above_zero.shape)"
   ]
  },
  {
   "cell_type": "code",
   "execution_count": null,
   "metadata": {},
   "outputs": [],
   "source": [
    "bin_min = delta_orig_all.delta_percent.min()\n",
    "bin_max = delta_orig_all.delta_percent.max()\n",
    "print(bin_min)\n",
    "print(bin_max)"
   ]
  },
  {
   "cell_type": "code",
   "execution_count": null,
   "metadata": {},
   "outputs": [],
   "source": [
    "bins_below_zeros = [-71, -60.000000001, -50.000000001, -40.000000001, -30.000000001, \n",
    "                    -20.000000001, -10.000000001,  -0.000000001]\n",
    "bins_above_zeros = [0.000000001, 10.000000001, 20.000000001, 30.000000001, 40.000000001, 50.000000001,\n",
    "                     60.000000001, 70.000000001, 80.000000001, 90.000000001, 100.000000001, bin_max]\n",
    "\n",
    "labels_below = ['- 61-70%', '- 51-60%','- 41-50%', '- 31-40%','- 21-30%', '- 11-20%','- up to 10%']\n",
    "lables_above = ['+ up to 10%', '+ 11-20%','+ 21-30%', '+ 31-40%','+ 41-50%', '+ 51-60%','+ 61-70%', '+ 71-80%',\n",
    "                '+ 81-90%', '+ 91-100%',' > 100%']"
   ]
  },
  {
   "cell_type": "code",
   "execution_count": null,
   "metadata": {},
   "outputs": [],
   "source": [
    "pd.cut(delta_below_zero['delta_percent'], precision=9,\n",
    "                                bins=bins_below_zeros,retbins=True,include_lowest=True)[0].cat.categories"
   ]
  },
  {
   "cell_type": "code",
   "execution_count": null,
   "metadata": {},
   "outputs": [],
   "source": [
    "pd.cut(delta_above_zero['delta_percent'], precision=9,\n",
    "                                bins=bins_above_zeros,retbins=True,include_lowest=True)[0].cat.categories"
   ]
  },
  {
   "cell_type": "code",
   "execution_count": null,
   "metadata": {},
   "outputs": [],
   "source": [
    "delta_below_zero.insert(delta_below_zero.shape[1],\n",
    "                        'delta_label',\n",
    "                        pd.cut(delta_below_zero['delta_percent'], precision=9,\n",
    "                                bins=bins_below_zeros,\n",
    "                                labels=labels_below, include_lowest = True))\n",
    "\n",
    "delta_below_zero"
   ]
  },
  {
   "cell_type": "code",
   "execution_count": null,
   "metadata": {},
   "outputs": [],
   "source": [
    "delta_above_zero.insert(delta_above_zero.shape[1],\n",
    "                        'delta_label',\n",
    "                        pd.cut(delta_above_zero['delta_percent'], precision=9,\n",
    "                                bins=bins_above_zeros,\n",
    "                                labels=lables_above, include_lowest = True))\n",
    "\n",
    "delta_above_zero                                "
   ]
  },
  {
   "cell_type": "code",
   "execution_count": null,
   "metadata": {},
   "outputs": [],
   "source": [
    "delta_orig_all_binned = pd.concat([delta_below_zero, delta_above_zero], ignore_index=True)\n",
    "delta_orig_all_binned = delta_orig_all_binned.sort_values(by=['delta_percent'])\n",
    "delta_orig_all_binned.shape"
   ]
  },
  {
   "cell_type": "code",
   "execution_count": null,
   "metadata": {},
   "outputs": [],
   "source": [
    "delta_orig_all_binned.isnull().values.any()"
   ]
  },
  {
   "cell_type": "code",
   "execution_count": null,
   "metadata": {},
   "outputs": [],
   "source": [
    "data = [[0,0.000000001,0,0,0,' < 100%'], [0,0.000000001,0,0,0,'- 91-100%'],\n",
    "        [0,0.000000001,0,0,0,'- 81-90%'],[0,0.000000001,0,0,0,'- 71-80%']]\n",
    "empty_bins = pd.DataFrame(data,columns=delta_orig_all_binned.columns.to_list())"
   ]
  },
  {
   "cell_type": "code",
   "execution_count": null,
   "metadata": {},
   "outputs": [],
   "source": [
    "delta_orig_all_binned = pd.concat([empty_bins, delta_orig_all_binned], ignore_index=True)\n",
    "delta_orig_all_binned.shape"
   ]
  },
  {
   "cell_type": "code",
   "execution_count": null,
   "metadata": {},
   "outputs": [],
   "source": []
  },
  {
   "cell_type": "code",
   "execution_count": null,
   "metadata": {},
   "outputs": [],
   "source": [
    "# OSM destination flows\n",
    "\n",
    "delta_below_zero = delta_dest_all[delta_dest_all.delta_percent < 0]\n",
    "delta_equals_zero = delta_dest_all[delta_dest_all.delta_percent == 0]\n",
    "delta_above_zero = delta_dest_all[delta_dest_all.delta_percent > 0]\n",
    "print(delta_below_zero.shape)\n",
    "print(delta_equals_zero.shape)\n",
    "print(delta_above_zero.shape)"
   ]
  },
  {
   "cell_type": "code",
   "execution_count": null,
   "metadata": {},
   "outputs": [],
   "source": [
    "bin_min = delta_dest_all.delta_percent.min()\n",
    "bin_max = delta_dest_all.delta_percent.max()\n",
    "print(bin_min)\n",
    "print(bin_max)"
   ]
  },
  {
   "cell_type": "code",
   "execution_count": null,
   "metadata": {},
   "outputs": [],
   "source": [
    "bins_below_zeros = [-90.000000001,-80.000000001,-70.000000001, -60.000000001, -50.000000001, -40.000000001,\n",
    "                    -30.000000001, -20.000000001, -10.000000001,  -0.000000001]\n",
    "bins_above_zeros = [0.000000001, 10.000000001, 20.000000001, 30.000000001, 40.000000001, 50.000000001,\n",
    "                     60.000000001, 70.000000001, 80.000000001, 90.000000001, 100.000000001, bin_max]\n",
    "\n",
    "labels_below = ['- 81-90%', '- 71-80%', '- 61-70%', '- 51-60%','- 41-50%', '- 31-40%','- 21-30%', \n",
    "                '- 11-20%','- up to 10%']\n",
    "lables_above = ['+ up to 10%', '+ 11-20%','+ 21-30%', '+ 31-40%','+ 41-50%', '+ 51-60%','+ 61-70%', '+ 71-80%',\n",
    "                '+ 81-90%', '+ 91-100%',' > 100%']"
   ]
  },
  {
   "cell_type": "code",
   "execution_count": null,
   "metadata": {},
   "outputs": [],
   "source": [
    "pd.cut(delta_below_zero['delta_percent'], precision=9,\n",
    "                                bins=bins_below_zeros,retbins=True,include_lowest=True)[0].cat.categories"
   ]
  },
  {
   "cell_type": "code",
   "execution_count": null,
   "metadata": {},
   "outputs": [],
   "source": [
    "pd.cut(delta_above_zero['delta_percent'], precision=9,\n",
    "                                bins=bins_above_zeros,retbins=True,include_lowest=True)[0].cat.categories"
   ]
  },
  {
   "cell_type": "code",
   "execution_count": null,
   "metadata": {},
   "outputs": [],
   "source": [
    "delta_below_zero.insert(delta_below_zero.shape[1],\n",
    "                        'delta_label',\n",
    "                        pd.cut(delta_below_zero['delta_percent'], precision=9,\n",
    "                                bins=bins_below_zeros,\n",
    "                                labels=labels_below, include_lowest = True))\n",
    "\n",
    "delta_below_zero"
   ]
  },
  {
   "cell_type": "code",
   "execution_count": null,
   "metadata": {},
   "outputs": [],
   "source": [
    "delta_above_zero.insert(delta_above_zero.shape[1],\n",
    "                        'delta_label',\n",
    "                        pd.cut(delta_above_zero['delta_percent'], precision=9,\n",
    "                                bins=bins_above_zeros,\n",
    "                                labels=lables_above, include_lowest = True))\n",
    "\n",
    "delta_above_zero                                "
   ]
  },
  {
   "cell_type": "code",
   "execution_count": null,
   "metadata": {},
   "outputs": [],
   "source": [
    "delta_dest_all_binned = pd.concat([delta_below_zero, delta_above_zero], ignore_index=True)\n",
    "delta_dest_all_binned = delta_dest_all_binned.sort_values(by=['delta_percent'])\n",
    "delta_dest_all_binned.shape"
   ]
  },
  {
   "cell_type": "code",
   "execution_count": null,
   "metadata": {},
   "outputs": [],
   "source": [
    "delta_dest_all_binned.isnull().values.any()"
   ]
  },
  {
   "cell_type": "code",
   "execution_count": null,
   "metadata": {},
   "outputs": [],
   "source": [
    "data = [[0,0.000000001,0,0,0,' < 100%'], [0,0.000000001,0,0,0,'- 91-100%']]\n",
    "empty_bins = pd.DataFrame(data,columns=delta_dest_all_binned.columns.to_list())"
   ]
  },
  {
   "cell_type": "code",
   "execution_count": null,
   "metadata": {},
   "outputs": [],
   "source": [
    "delta_dest_all_binned = pd.concat([empty_bins, delta_dest_all_binned], ignore_index=True)\n",
    "delta_dest_all_binned.shape"
   ]
  },
  {
   "cell_type": "code",
   "execution_count": null,
   "metadata": {},
   "outputs": [],
   "source": []
  },
  {
   "cell_type": "code",
   "execution_count": null,
   "metadata": {},
   "outputs": [],
   "source": [
    "# GMEL orign flows\n",
    "\n",
    "delta_below_zero = delta_orig_all_GMEL[delta_orig_all_GMEL.delta_percent < 0]\n",
    "delta_equals_zero = delta_orig_all_GMEL[delta_orig_all_GMEL.delta_percent == 0]\n",
    "delta_above_zero = delta_orig_all_GMEL[delta_orig_all_GMEL.delta_percent > 0]\n",
    "print(delta_below_zero.shape)\n",
    "print(delta_equals_zero.shape)\n",
    "print(delta_above_zero.shape)"
   ]
  },
  {
   "cell_type": "code",
   "execution_count": null,
   "metadata": {},
   "outputs": [],
   "source": [
    "bin_min = delta_orig_all_GMEL.delta_percent.min()\n",
    "bin_max = delta_orig_all_GMEL.delta_percent.max()\n",
    "print(bin_min)\n",
    "print(bin_max)"
   ]
  },
  {
   "cell_type": "code",
   "execution_count": null,
   "metadata": {},
   "outputs": [],
   "source": [
    "bins_below_zeros = [-71, -60.000000001, -50.000000001, -40.000000001, -30.000000001, \n",
    "                    -20.000000001, -10.000000001,  -0.000000001]\n",
    "bins_above_zeros = [0.000000001, 10.000000001, 20.000000001, 30.000000001, 40.000000001, 50.000000001,\n",
    "                     60.000000001, 70.000000001, 80.000000001, 90.000000001, 100.000000001, bin_max]\n",
    "\n",
    "labels_below = ['- 61-70%', '- 51-60%','- 41-50%', '- 31-40%','- 21-30%', '- 11-20%','- up to 10%']\n",
    "lables_above = ['+ up to 10%', '+ 11-20%','+ 21-30%', '+ 31-40%','+ 41-50%', '+ 51-60%','+ 61-70%', '+ 71-80%',\n",
    "                '+ 81-90%', '+ 91-100%',' > 100%']"
   ]
  },
  {
   "cell_type": "code",
   "execution_count": null,
   "metadata": {},
   "outputs": [],
   "source": [
    "pd.cut(delta_below_zero['delta_percent'], precision=9,\n",
    "                                bins=bins_below_zeros,retbins=True,include_lowest=True)[0].cat.categories"
   ]
  },
  {
   "cell_type": "code",
   "execution_count": null,
   "metadata": {},
   "outputs": [],
   "source": [
    "pd.cut(delta_above_zero['delta_percent'], precision=9,\n",
    "                                bins=bins_above_zeros,retbins=True,include_lowest=True)[0].cat.categories"
   ]
  },
  {
   "cell_type": "code",
   "execution_count": null,
   "metadata": {},
   "outputs": [],
   "source": [
    "delta_below_zero.insert(delta_below_zero.shape[1],\n",
    "                        'delta_label',\n",
    "                        pd.cut(delta_below_zero['delta_percent'], precision=9,\n",
    "                                bins=bins_below_zeros,\n",
    "                                labels=labels_below, include_lowest = True))\n",
    "\n",
    "delta_below_zero"
   ]
  },
  {
   "cell_type": "code",
   "execution_count": null,
   "metadata": {},
   "outputs": [],
   "source": [
    "delta_above_zero.insert(delta_above_zero.shape[1],\n",
    "                        'delta_label',\n",
    "                        pd.cut(delta_above_zero['delta_percent'], precision=9,\n",
    "                                bins=bins_above_zeros,\n",
    "                                labels=lables_above, include_lowest = True))\n",
    "\n",
    "delta_above_zero                                "
   ]
  },
  {
   "cell_type": "code",
   "execution_count": null,
   "metadata": {},
   "outputs": [],
   "source": [
    "delta_orig_all_binned_GMEL = pd.concat([delta_below_zero, delta_above_zero], ignore_index=True)\n",
    "delta_orig_all_binned_GMEL = delta_orig_all_binned_GMEL.sort_values(by=['delta_percent'])\n",
    "delta_orig_all_binned_GMEL.shape"
   ]
  },
  {
   "cell_type": "code",
   "execution_count": null,
   "metadata": {},
   "outputs": [],
   "source": [
    "delta_orig_all_binned_GMEL.isnull().values.any()"
   ]
  },
  {
   "cell_type": "code",
   "execution_count": null,
   "metadata": {},
   "outputs": [],
   "source": [
    "data = [[0,0.000000001,0,0,0,' < 100%'], [0,0.000000001,0,0,0,'- 91-100%'],\n",
    "        [0,0.000000001,0,0,0,'- 81-90%'],[0,0.000000001,0,0,0,'- 71-80%']]\n",
    "empty_bins = pd.DataFrame(data,columns=delta_orig_all_binned_GMEL.columns.to_list())"
   ]
  },
  {
   "cell_type": "code",
   "execution_count": null,
   "metadata": {},
   "outputs": [],
   "source": [
    "delta_orig_all_binned_GMEL = pd.concat([empty_bins, delta_orig_all_binned_GMEL], ignore_index=True)\n",
    "delta_orig_all_binned_GMEL.shape"
   ]
  },
  {
   "cell_type": "code",
   "execution_count": null,
   "metadata": {},
   "outputs": [],
   "source": []
  },
  {
   "cell_type": "code",
   "execution_count": null,
   "metadata": {},
   "outputs": [],
   "source": [
    "# GMEL destination flows\n",
    "\n",
    "delta_below_zero = delta_dest_all_GMEL[delta_dest_all_GMEL.delta_percent < 0]\n",
    "delta_equals_zero = delta_dest_all_GMEL[delta_dest_all_GMEL.delta_percent == 0]\n",
    "delta_above_zero = delta_dest_all_GMEL[delta_dest_all_GMEL.delta_percent > 0]\n",
    "print(delta_below_zero.shape)\n",
    "print(delta_equals_zero.shape)\n",
    "print(delta_above_zero.shape)"
   ]
  },
  {
   "cell_type": "code",
   "execution_count": null,
   "metadata": {},
   "outputs": [],
   "source": [
    "bin_min = delta_dest_all_GMEL.delta_percent.min()\n",
    "bin_max = delta_dest_all_GMEL.delta_percent.max()\n",
    "print(bin_min)\n",
    "print(bin_max)"
   ]
  },
  {
   "cell_type": "code",
   "execution_count": null,
   "metadata": {},
   "outputs": [],
   "source": [
    "bins_below_zeros = [-90.000000001,-80.000000001,-70.000000001, -60.000000001, -50.000000001,\n",
    "                    -40.000000001, -30.000000001, -20.000000001, -10.000000001,  -0.000000001]\n",
    "bins_above_zeros = [0.000000001, 10.000000001, 20.000000001, 30.000000001, 40.000000001, 50.000000001,\n",
    "                     60.000000001, 70.000000001, 80.000000001, 90.000000001, 100.000000001, bin_max]\n",
    "\n",
    "labels_below = ['- 81-90%', '- 71-80%', '- 61-70%', '- 51-60%','- 41-50%', '- 31-40%','- 21-30%', \n",
    "                '- 11-20%','- up to 10%']\n",
    "lables_above = ['+ up to 10%', '+ 11-20%','+ 21-30%', '+ 31-40%','+ 41-50%', '+ 51-60%','+ 61-70%', '+ 71-80%',\n",
    "                '+ 81-90%', '+ 91-100%',' > 100%']"
   ]
  },
  {
   "cell_type": "code",
   "execution_count": null,
   "metadata": {},
   "outputs": [],
   "source": [
    "pd.cut(delta_below_zero['delta_percent'], precision=9,\n",
    "                                bins=bins_below_zeros,retbins=True,include_lowest=True)[0].cat.categories"
   ]
  },
  {
   "cell_type": "code",
   "execution_count": null,
   "metadata": {},
   "outputs": [],
   "source": [
    "pd.cut(delta_above_zero['delta_percent'], precision=9,\n",
    "                                bins=bins_above_zeros,retbins=True,include_lowest=True)[0].cat.categories"
   ]
  },
  {
   "cell_type": "code",
   "execution_count": null,
   "metadata": {},
   "outputs": [],
   "source": [
    "delta_below_zero.insert(delta_below_zero.shape[1],\n",
    "                        'delta_label',\n",
    "                        pd.cut(delta_below_zero['delta_percent'], precision=9,\n",
    "                                bins=bins_below_zeros,\n",
    "                                labels=labels_below, include_lowest = True))\n",
    "\n",
    "delta_below_zero"
   ]
  },
  {
   "cell_type": "code",
   "execution_count": null,
   "metadata": {},
   "outputs": [],
   "source": [
    "delta_above_zero.insert(delta_above_zero.shape[1],\n",
    "                        'delta_label',\n",
    "                        pd.cut(delta_above_zero['delta_percent'], precision=9,\n",
    "                                bins=bins_above_zeros,\n",
    "                                labels=lables_above, include_lowest = True))\n",
    "\n",
    "delta_above_zero                                "
   ]
  },
  {
   "cell_type": "code",
   "execution_count": null,
   "metadata": {},
   "outputs": [],
   "source": [
    "delta_dest_all_binned_GMEL = pd.concat([delta_below_zero, delta_above_zero], ignore_index=True)\n",
    "delta_dest_all_binned_GMEL = delta_dest_all_binned_GMEL.sort_values(by=['delta_percent'])\n",
    "delta_dest_all_binned_GMEL.shape"
   ]
  },
  {
   "cell_type": "code",
   "execution_count": null,
   "metadata": {},
   "outputs": [],
   "source": [
    "delta_dest_all_binned_GMEL.isnull().values.any()"
   ]
  },
  {
   "cell_type": "code",
   "execution_count": null,
   "metadata": {},
   "outputs": [],
   "source": [
    "data = [[0,0.000000001,0,0,0,' < 100%'], [0,0.000000001,0,0,0,'- 91-100%']]\n",
    "empty_bins = pd.DataFrame(data,columns=delta_dest_all_binned_GMEL.columns.to_list())"
   ]
  },
  {
   "cell_type": "code",
   "execution_count": null,
   "metadata": {},
   "outputs": [],
   "source": [
    "delta_dest_all_binned_GMEL = pd.concat([empty_bins, delta_dest_all_binned_GMEL], ignore_index=True)\n",
    "delta_dest_all_binned_GMEL.shape"
   ]
  },
  {
   "cell_type": "code",
   "execution_count": null,
   "metadata": {},
   "outputs": [],
   "source": []
  },
  {
   "cell_type": "code",
   "execution_count": null,
   "metadata": {},
   "outputs": [],
   "source": [
    "# delta percentages histogram of all origin flows using OSM features\n",
    "\n",
    "fig = px.histogram(delta_orig_all_binned,x='delta_label',y='gt_count',\n",
    "                   labels={'delta_label':'delta percentage','gt_count':'commuters'})\n",
    "fig.update_layout(yaxis_range=[0,120000])\n",
    "fig.update_layout(width =1024, height=720, font_size=24); \n",
    "#fig.show()\n",
    "#pio.write_image(fig, 'nyc_osm_origin_hist.pdf')"
   ]
  },
  {
   "cell_type": "code",
   "execution_count": null,
   "metadata": {},
   "outputs": [],
   "source": [
    "# delta percentages histogram of all destination flows using OSM features\n",
    "\n",
    "fig = px.histogram(delta_dest_all_binned,x='delta_label',y='gt_count',\n",
    "                   labels={'delta_label':'delta percentage','gt_count':'commuters'})\n",
    "fig.update_layout(yaxis_range=[0,160000])\n",
    "fig.update_layout(width =1024, height=720, font_size=24)\n",
    "#fig.show()\n",
    "#pio.write_image(fig, 'nyc_osm_destination_hist.pdf')"
   ]
  },
  {
   "cell_type": "code",
   "execution_count": null,
   "metadata": {},
   "outputs": [],
   "source": [
    "# delta percentages histogram of all origin flows using GMEL features\n",
    "\n",
    "fig = px.histogram(delta_orig_all_binned_GMEL,x='delta_label',y='gt_count',\n",
    "                   labels={'delta_label':'delta percentage','gt_count':'commuters'})\n",
    "fig.update_layout(yaxis_range=[0,120000])\n",
    "fig.update_layout(width =1024, height=720, font_size=24); \n",
    "#fig.show()\n",
    "#pio.write_image(fig, 'nyc_gmel_origin_hist.pdf')"
   ]
  },
  {
   "cell_type": "code",
   "execution_count": null,
   "metadata": {},
   "outputs": [],
   "source": [
    "# delta percentages histogram of all destination flows using OSM features\n",
    "\n",
    "fig = px.histogram(delta_dest_all_binned_GMEL,x='delta_label',y='gt_count',\n",
    "                   labels={'delta_label':'delta percentage','gt_count':'commuters'})\n",
    "fig.update_layout(yaxis_range=[0,160000])\n",
    "fig.update_layout(width =1024, height=720, font_size=24)\n",
    "#fig.show()\n",
    "#pio.write_image(fig, 'nyc_gmel_destination_hist.pdf')"
   ]
  },
  {
   "cell_type": "code",
   "execution_count": null,
   "metadata": {},
   "outputs": [],
   "source": []
  },
  {
   "attachments": {},
   "cell_type": "markdown",
   "metadata": {},
   "source": [
    "NYC Scatter plots:"
   ]
  },
  {
   "cell_type": "code",
   "execution_count": null,
   "metadata": {},
   "outputs": [],
   "source": [
    "fig = px.scatter(x=gt_orig_all.gt_count, y=pred_orig_all.pred_count, #trendline='ols',\n",
    "                 labels={\n",
    "                     'x': 'Ground truth commuters count',\n",
    "                     'y': 'Prediction commuters count'\n",
    "                 })\n",
    "fig.update_layout(xaxis_range=[-100,1640])\n",
    "fig.update_layout(yaxis_range=[-100,1640])\n",
    "fig.update_layout(width =1024, height=720, font_size=24); \n",
    "\n",
    "fig.add_shape(type=\"line\",x0=0, y0=0, x1=1600, y1=1600,\n",
    "    line=dict(color='#636EFA',width=2)\n",
    ")\n",
    "#fig.show()\n",
    "#pio.write_image(fig, 'nyc_osm_origin_scatter.pdf')"
   ]
  },
  {
   "cell_type": "code",
   "execution_count": null,
   "metadata": {},
   "outputs": [],
   "source": [
    "fig = px.scatter(x=gt_orig_all.gt_count, y=pred_orig_all_GMEL.pred_count, #trendline='ols',\n",
    "                 labels={\n",
    "                     'x': 'Ground truth commuters count',\n",
    "                     'y': 'Prediction commuters count'\n",
    "                 })\n",
    "fig.update_layout(xaxis_range=[-100,1640])\n",
    "fig.update_layout(yaxis_range=[-100,1640])\n",
    "fig.update_layout(width =1024, height=720, font_size=24); \n",
    "\n",
    "fig.add_shape(type=\"line\",x0=0, y0=0, x1=1600, y1=1600,\n",
    "    line=dict(color='#636EFA',width=2)\n",
    ")\n",
    "#fig.show()\n",
    "#pio.write_image(fig, 'nyc_gmel_origin_scatter.pdf')"
   ]
  },
  {
   "cell_type": "code",
   "execution_count": null,
   "metadata": {},
   "outputs": [],
   "source": [
    "fig = px.scatter(x=gt_dest_all.gt_count, y=pred_dest_all.pred_count,log_x=True, log_y=True, #trendline='ols',\n",
    "                 labels={\n",
    "                     'x': 'Ground truth commuters count',\n",
    "                     'y': 'Prediction commuters count'\n",
    "                 })\n",
    "fig.update_layout(width =1024, height=720, font_size=24); \n",
    "fig.add_shape(type=\"line\",x0=1, y0=1, x1=10000, y1=10000,\n",
    "    line=dict(color='#636EFA',width=2)\n",
    ")\n",
    "#fig.show()\n",
    "#pio.write_image(fig, 'nyc_osm_destination_log_scatter.pdf')"
   ]
  },
  {
   "cell_type": "code",
   "execution_count": null,
   "metadata": {},
   "outputs": [],
   "source": [
    "fig = px.scatter(x=gt_dest_all.gt_count, y=pred_dest_all_GMEL.pred_count,log_x=True, log_y=True, #trendline='ols',\n",
    "                 labels={\n",
    "                     'x': 'Ground truth commuters count',\n",
    "                     'y': 'Prediction commuters count'\n",
    "                 })\n",
    "fig.update_layout(width =1024, height=720, font_size=24); \n",
    "fig.add_shape(type=\"line\",x0=1, y0=1, x1=10000, y1=10000,\n",
    "    line=dict(color='#636EFA',width=2)\n",
    ")\n",
    "#fig.show()\n",
    "#pio.write_image(fig, 'nyc_gmel_destination_log_scatter.pdf')"
   ]
  },
  {
   "attachments": {},
   "cell_type": "markdown",
   "metadata": {},
   "source": [
    "Some stats:"
   ]
  },
  {
   "cell_type": "code",
   "execution_count": null,
   "metadata": {},
   "outputs": [],
   "source": [
    "gt_orig_all.describe().gt_count.to_frame().rename(columns={'gt_count' : 'GT origin stats'})"
   ]
  },
  {
   "cell_type": "code",
   "execution_count": null,
   "metadata": {},
   "outputs": [],
   "source": [
    "gt_dest_all.describe().gt_count.to_frame().rename(columns={'gt_count' : 'GT destination stats'})"
   ]
  },
  {
   "attachments": {},
   "cell_type": "markdown",
   "metadata": {},
   "source": [
    "Processing test with a single origin and destination using OSM features:   "
   ]
  },
  {
   "cell_type": "code",
   "execution_count": null,
   "metadata": {},
   "outputs": [],
   "source": [
    "gt_flows[gt_flows.h_geoid==gt_flows.w_geoid]"
   ]
  },
  {
   "cell_type": "code",
   "execution_count": null,
   "metadata": {},
   "outputs": [],
   "source": [
    "orig_geoid = gt_orig_all[gt_orig_all.gt_count==gt_orig_all.gt_count.median()].iloc[0].h_geoid"
   ]
  },
  {
   "cell_type": "code",
   "execution_count": null,
   "metadata": {},
   "outputs": [],
   "source": [
    "dest_geoid = gt_dest_all[gt_dest_all.gt_count==gt_dest_all.gt_count.median()].iloc[1].w_geoid"
   ]
  },
  {
   "cell_type": "code",
   "execution_count": null,
   "metadata": {},
   "outputs": [],
   "source": [
    "gt_flows.shape"
   ]
  },
  {
   "cell_type": "code",
   "execution_count": null,
   "metadata": {},
   "outputs": [],
   "source": [
    "gt_orig_dest_frozen = gt_flows.loc[gt_flows.w_geoid==dest_geoid, ['h_geoid', 'gt_count']].copy()\n",
    "gt_dest_orig_frozen = gt_flows.loc[gt_flows.h_geoid==orig_geoid, ['w_geoid', 'gt_count']].copy()"
   ]
  },
  {
   "cell_type": "code",
   "execution_count": null,
   "metadata": {},
   "outputs": [],
   "source": [
    "pred_flows.shape"
   ]
  },
  {
   "cell_type": "code",
   "execution_count": null,
   "metadata": {},
   "outputs": [],
   "source": [
    "pred_orig_dest_frozen = pred_flows.loc[pred_flows.w_geoid==dest_geoid, ['h_geoid', 'pred_count']].copy()\n",
    "pred_dest_orig_frozen = pred_flows.loc[pred_flows.h_geoid==orig_geoid, ['w_geoid', 'pred_count']].copy()\n",
    "GMEL_orig_dest_frozen = pred_flows_GMEL.loc[pred_flows_GMEL.w_geoid==dest_geoid, ['h_geoid', 'pred_count']].copy()\n",
    "GMEL_dest_orig_frozen = pred_flows_GMEL.loc[pred_flows_GMEL.h_geoid==orig_geoid, ['w_geoid', 'pred_count']].copy()"
   ]
  },
  {
   "cell_type": "code",
   "execution_count": null,
   "metadata": {},
   "outputs": [],
   "source": [
    "# round predicted count to nearest integer\n",
    "\n",
    "pred_orig_dest_frozen['pred_count'] = pred_orig_dest_frozen.pred_count.round(0)\n",
    "pred_dest_orig_frozen['pred_count'] = pred_dest_orig_frozen.pred_count.round(0)\n",
    "GMEL_orig_dest_frozen['pred_count'] = GMEL_orig_dest_frozen.pred_count.round(0)\n",
    "GMEL_dest_orig_frozen['pred_count'] = GMEL_dest_orig_frozen.pred_count.round(0)"
   ]
  },
  {
   "attachments": {},
   "cell_type": "markdown",
   "metadata": {},
   "source": [
    "Processing predicted origin, single destination"
   ]
  },
  {
   "cell_type": "code",
   "execution_count": null,
   "metadata": {},
   "outputs": [],
   "source": [
    "gt_flows.shape"
   ]
  },
  {
   "cell_type": "code",
   "execution_count": null,
   "metadata": {},
   "outputs": [],
   "source": [
    "gt_orig_dest_frozen.shape"
   ]
  },
  {
   "cell_type": "code",
   "execution_count": null,
   "metadata": {},
   "outputs": [],
   "source": [
    "gt_orig_dest_frozen[gt_orig_dest_frozen.gt_count == 0].shape"
   ]
  },
  {
   "cell_type": "code",
   "execution_count": null,
   "metadata": {},
   "outputs": [],
   "source": [
    "pred_orig_dest_frozen[pred_orig_dest_frozen.pred_count==0].shape"
   ]
  },
  {
   "cell_type": "code",
   "execution_count": null,
   "metadata": {},
   "outputs": [],
   "source": [
    "GMEL_orig_dest_frozen[GMEL_orig_dest_frozen.pred_count==0].shape"
   ]
  },
  {
   "cell_type": "code",
   "execution_count": null,
   "metadata": {},
   "outputs": [],
   "source": [
    "gt_orig_dest_frozen['label'] = 'not matched'\n",
    "pred_orig_dest_frozen['label'] = 'not matched'\n",
    "GMEL_orig_dest_frozen['label'] = 'not matched'"
   ]
  },
  {
   "cell_type": "code",
   "execution_count": null,
   "metadata": {},
   "outputs": [],
   "source": [
    "gt_orig_dest_frozen.loc[((gt_orig_dest_frozen.gt_count == 0) & (pred_orig_dest_frozen.pred_count == 0) |\n",
    "                         (gt_orig_dest_frozen.gt_count > 0) & (pred_orig_dest_frozen.pred_count > 0)),\n",
    "                        'label'] = 'matched'\n",
    "\n",
    "pred_orig_dest_frozen.loc[((gt_orig_dest_frozen.gt_count == 0) & (pred_orig_dest_frozen.pred_count == 0) |\n",
    "                         (gt_orig_dest_frozen.gt_count > 0) & (pred_orig_dest_frozen.pred_count > 0)),\n",
    "                        'label'] = 'matched'\n",
    "\n",
    "GMEL_orig_dest_frozen.loc[((gt_orig_dest_frozen.gt_count == 0) & (GMEL_orig_dest_frozen.pred_count == 0) |\n",
    "                         (gt_orig_dest_frozen.gt_count > 0) & (GMEL_orig_dest_frozen.pred_count > 0)),\n",
    "                        'label'] = 'matched'"
   ]
  },
  {
   "cell_type": "code",
   "execution_count": null,
   "metadata": {},
   "outputs": [],
   "source": [
    "pred_orig_dest_frozen.groupby(by='label').count()"
   ]
  },
  {
   "cell_type": "code",
   "execution_count": null,
   "metadata": {},
   "outputs": [],
   "source": [
    "GMEL_orig_dest_frozen.groupby(by='label').count()"
   ]
  },
  {
   "cell_type": "code",
   "execution_count": null,
   "metadata": {},
   "outputs": [],
   "source": [
    "gt_orig_dest_frozen[(gt_orig_dest_frozen.gt_count == 0) & (pred_orig_dest_frozen.pred_count == 0)].shape"
   ]
  },
  {
   "cell_type": "code",
   "execution_count": null,
   "metadata": {},
   "outputs": [],
   "source": [
    "gt_orig_dest_frozen[(gt_orig_dest_frozen.gt_count == 0) & (GMEL_orig_dest_frozen.pred_count == 0)].shape"
   ]
  },
  {
   "cell_type": "code",
   "execution_count": null,
   "metadata": {},
   "outputs": [],
   "source": [
    "gt_orig_dest_frozen[(gt_orig_dest_frozen.gt_count != 0) & (pred_orig_dest_frozen.pred_count != 0)].shape"
   ]
  },
  {
   "cell_type": "code",
   "execution_count": null,
   "metadata": {},
   "outputs": [],
   "source": [
    "gt_orig_dest_frozen[(gt_orig_dest_frozen.gt_count != 0) & (GMEL_orig_dest_frozen.pred_count != 0)].shape"
   ]
  },
  {
   "cell_type": "code",
   "execution_count": null,
   "metadata": {},
   "outputs": [],
   "source": [
    "#gt_orig_dest_frozen.groupby(by='gt_count').count()"
   ]
  },
  {
   "cell_type": "code",
   "execution_count": null,
   "metadata": {},
   "outputs": [],
   "source": [
    "#pred_orig_dest_frozen.groupby(by='pred_count').count()"
   ]
  },
  {
   "cell_type": "code",
   "execution_count": null,
   "metadata": {},
   "outputs": [],
   "source": [
    "no_orig_flows = nyc_all_geoids[~nyc_all_geoids.isin(gt_orig_dest_frozen.h_geoid)].to_frame().\\\n",
    "    rename(columns={'GEOID' : 'h_geoid'})\n",
    "no_orig_flows['gt_count'] = -1\n",
    "no_orig_flows['label'] = 'no flows'\n",
    "no_orig_flows.shape"
   ]
  },
  {
   "cell_type": "code",
   "execution_count": null,
   "metadata": {},
   "outputs": [],
   "source": [
    "no_orig_flows.loc[no_orig_flows.h_geoid==dest_geoid, 'label'] = 'destination'\n",
    "no_orig_flows.loc[no_orig_flows.h_geoid==dest_geoid, 'gt_count'] = 0"
   ]
  },
  {
   "cell_type": "code",
   "execution_count": null,
   "metadata": {},
   "outputs": [],
   "source": [
    "gt_orig_dest_frozen = pd.concat([gt_orig_dest_frozen,no_orig_flows], ignore_index=True)\n",
    "gt_orig_dest_frozen.shape"
   ]
  },
  {
   "cell_type": "code",
   "execution_count": null,
   "metadata": {},
   "outputs": [],
   "source": [
    "no_orig_flows = no_orig_flows.rename(columns={'gt_count' : 'pred_count'}).copy()\n",
    "pred_orig_dest_frozen = pd.concat([pred_orig_dest_frozen,no_orig_flows], ignore_index=True)\n",
    "pred_orig_dest_frozen.shape"
   ]
  },
  {
   "cell_type": "code",
   "execution_count": null,
   "metadata": {},
   "outputs": [],
   "source": [
    "GMEL_orig_dest_frozen = pd.concat([GMEL_orig_dest_frozen,no_orig_flows], ignore_index=True)\n",
    "GMEL_orig_dest_frozen.shape"
   ]
  },
  {
   "cell_type": "code",
   "execution_count": null,
   "metadata": {},
   "outputs": [],
   "source": [
    "pred_orig_dest_frozen.groupby(by='label').count()"
   ]
  },
  {
   "cell_type": "code",
   "execution_count": null,
   "metadata": {},
   "outputs": [],
   "source": [
    "GMEL_orig_dest_frozen.groupby(by='label').count()"
   ]
  },
  {
   "cell_type": "code",
   "execution_count": null,
   "metadata": {},
   "outputs": [],
   "source": [
    "gt_orig_dest_frozen = gt_orig_dest_frozen.sort_values(by=['gt_count'], ascending=False)\n",
    "gt_orig_dest_frozen['gt_count'] = gt_orig_dest_frozen['gt_count'].astype(str)\n",
    "pred_orig_dest_frozen = pred_orig_dest_frozen.sort_values(by=['pred_count'], ascending=False)\n",
    "pred_orig_dest_frozen['pred_count'] = pred_orig_dest_frozen['pred_count'].astype(str)\n",
    "GMEL_orig_dest_frozen = GMEL_orig_dest_frozen.sort_values(by=['pred_count'], ascending=False)\n",
    "GMEL_orig_dest_frozen['pred_count'] = GMEL_orig_dest_frozen['pred_count'].astype(str)"
   ]
  },
  {
   "attachments": {},
   "cell_type": "markdown",
   "metadata": {},
   "source": [
    "Processing predicted destination, single origin"
   ]
  },
  {
   "cell_type": "code",
   "execution_count": null,
   "metadata": {},
   "outputs": [],
   "source": [
    "gt_orig_dest_frozen.shape"
   ]
  },
  {
   "cell_type": "code",
   "execution_count": null,
   "metadata": {},
   "outputs": [],
   "source": [
    "gt_dest_orig_frozen.shape"
   ]
  },
  {
   "cell_type": "code",
   "execution_count": null,
   "metadata": {},
   "outputs": [],
   "source": [
    "gt_dest_orig_frozen[gt_dest_orig_frozen.gt_count == 0].shape"
   ]
  },
  {
   "cell_type": "code",
   "execution_count": null,
   "metadata": {},
   "outputs": [],
   "source": [
    "pred_dest_orig_frozen[pred_dest_orig_frozen.pred_count==0].shape"
   ]
  },
  {
   "cell_type": "code",
   "execution_count": null,
   "metadata": {},
   "outputs": [],
   "source": [
    "GMEL_dest_orig_frozen[GMEL_dest_orig_frozen.pred_count==0].shape"
   ]
  },
  {
   "cell_type": "code",
   "execution_count": null,
   "metadata": {},
   "outputs": [],
   "source": [
    "gt_dest_orig_frozen['label'] = 'not matched'\n",
    "pred_dest_orig_frozen['label'] = 'not matched'\n",
    "GMEL_dest_orig_frozen['label'] = 'not matched'"
   ]
  },
  {
   "cell_type": "code",
   "execution_count": null,
   "metadata": {},
   "outputs": [],
   "source": [
    "gt_dest_orig_frozen.loc[((gt_dest_orig_frozen.gt_count == 0) & (pred_dest_orig_frozen.pred_count == 0) |\n",
    "                         (gt_dest_orig_frozen.gt_count > 0) & (pred_dest_orig_frozen.pred_count > 0)),\n",
    "                        'label'] = 'matched'\n",
    "\n",
    "pred_dest_orig_frozen.loc[((gt_dest_orig_frozen.gt_count == 0) & (pred_dest_orig_frozen.pred_count == 0) |\n",
    "                         (gt_dest_orig_frozen.gt_count > 0) & (pred_dest_orig_frozen.pred_count > 0)),\n",
    "                        'label'] = 'matched'\n",
    "GMEL_dest_orig_frozen.loc[((gt_dest_orig_frozen.gt_count == 0) & (GMEL_dest_orig_frozen.pred_count == 0) |\n",
    "                         (gt_dest_orig_frozen.gt_count > 0) & (GMEL_dest_orig_frozen.pred_count > 0)),\n",
    "                        'label'] = 'matched'"
   ]
  },
  {
   "cell_type": "code",
   "execution_count": null,
   "metadata": {},
   "outputs": [],
   "source": [
    "pred_dest_orig_frozen.groupby(by='label').count()"
   ]
  },
  {
   "cell_type": "code",
   "execution_count": null,
   "metadata": {},
   "outputs": [],
   "source": [
    "GMEL_dest_orig_frozen.groupby(by='label').count()"
   ]
  },
  {
   "cell_type": "code",
   "execution_count": null,
   "metadata": {},
   "outputs": [],
   "source": [
    "gt_dest_orig_frozen[(gt_dest_orig_frozen.gt_count == 0) & (pred_dest_orig_frozen.pred_count == 0)].shape"
   ]
  },
  {
   "cell_type": "code",
   "execution_count": null,
   "metadata": {},
   "outputs": [],
   "source": [
    "gt_dest_orig_frozen[(gt_dest_orig_frozen.gt_count == 0) & (GMEL_dest_orig_frozen.pred_count == 0)].shape"
   ]
  },
  {
   "cell_type": "code",
   "execution_count": null,
   "metadata": {},
   "outputs": [],
   "source": [
    "gt_dest_orig_frozen[(gt_dest_orig_frozen.gt_count != 0) & (pred_dest_orig_frozen.pred_count != 0)].shape"
   ]
  },
  {
   "cell_type": "code",
   "execution_count": null,
   "metadata": {},
   "outputs": [],
   "source": [
    "gt_dest_orig_frozen[(gt_dest_orig_frozen.gt_count != 0) & (GMEL_dest_orig_frozen.pred_count != 0)].shape"
   ]
  },
  {
   "cell_type": "code",
   "execution_count": null,
   "metadata": {},
   "outputs": [],
   "source": [
    "#gt_dest_orig_frozen.groupby(by='gt_count').count()"
   ]
  },
  {
   "cell_type": "code",
   "execution_count": null,
   "metadata": {},
   "outputs": [],
   "source": [
    "#pred_dest_orig_frozen.groupby(by='pred_count').count()"
   ]
  },
  {
   "cell_type": "code",
   "execution_count": null,
   "metadata": {},
   "outputs": [],
   "source": [
    "no_dest_flows = nyc_all_geoids[~nyc_all_geoids.isin(gt_dest_orig_frozen.w_geoid)].to_frame().\\\n",
    "    rename(columns={'GEOID' : 'w_geoid'})\n",
    "no_dest_flows['gt_count'] = -1\n",
    "no_dest_flows['label'] = 'no flows'\n",
    "no_dest_flows.shape"
   ]
  },
  {
   "cell_type": "code",
   "execution_count": null,
   "metadata": {},
   "outputs": [],
   "source": [
    "no_dest_flows.loc[no_dest_flows.w_geoid==orig_geoid, 'label'] = 'origin'\n",
    "no_dest_flows.loc[no_dest_flows.w_geoid==orig_geoid, 'gt_count'] = 0"
   ]
  },
  {
   "cell_type": "code",
   "execution_count": null,
   "metadata": {},
   "outputs": [],
   "source": [
    "gt_dest_orig_frozen = pd.concat([gt_dest_orig_frozen,no_dest_flows], ignore_index=True)\n",
    "gt_dest_orig_frozen.shape"
   ]
  },
  {
   "cell_type": "code",
   "execution_count": null,
   "metadata": {},
   "outputs": [],
   "source": [
    "no_dest_flows = no_dest_flows.rename(columns={'gt_count' : 'pred_count'}).copy()\n",
    "pred_dest_orig_frozen = pd.concat([pred_dest_orig_frozen,no_dest_flows], ignore_index=True)\n",
    "pred_dest_orig_frozen.shape"
   ]
  },
  {
   "cell_type": "code",
   "execution_count": null,
   "metadata": {},
   "outputs": [],
   "source": [
    "GMEL_dest_orig_frozen = pd.concat([GMEL_dest_orig_frozen,no_dest_flows], ignore_index=True)\n",
    "GMEL_dest_orig_frozen.shape"
   ]
  },
  {
   "cell_type": "code",
   "execution_count": null,
   "metadata": {},
   "outputs": [],
   "source": [
    "gt_dest_orig_frozen = gt_dest_orig_frozen.sort_values(by=['gt_count'], ascending=False)\n",
    "gt_dest_orig_frozen['gt_count'] = gt_dest_orig_frozen['gt_count'].astype(str)\n",
    "pred_dest_orig_frozen = pred_dest_orig_frozen.sort_values(by=['pred_count'], ascending=False)\n",
    "pred_dest_orig_frozen['pred_count'] = pred_dest_orig_frozen['pred_count'].astype(str)\n",
    "GMEL_dest_orig_frozen = GMEL_dest_orig_frozen.sort_values(by=['pred_count'], ascending=False)\n",
    "GMEL_dest_orig_frozen['pred_count'] = GMEL_dest_orig_frozen['pred_count'].astype(str)"
   ]
  },
  {
   "cell_type": "markdown",
   "metadata": {},
   "source": [
    "Origin and destination maps!"
   ]
  },
  {
   "cell_type": "code",
   "execution_count": null,
   "metadata": {},
   "outputs": [],
   "source": [
    "# OSM origin, single destination\n",
    "\n",
    "fig = px.choropleth(pred_orig_dest_frozen, geojson=nyc_tracts, locations='h_geoid', featureidkey=\"properties.GEOID\",\\\n",
    "                 color='label',\n",
    "                 color_discrete_sequence=[\n",
    "                    'rgb(124, 252, 0)','rgb(107,174,214)','rgb(255, 0, 0)','rgb(255,255,255)']\n",
    "                    #'rgb(33,113,181)','rgb(8,48,107)','rgb(235, 249, 246)']\n",
    "                 )\n",
    "\n",
    "fig.update_geos(fitbounds=\"locations\", visible=False)\n",
    "fig.update_traces(marker_line_width=0.1, marker_opacity=0.8)\n",
    "fig.update_layout(margin={\"r\":0,\"t\":0,\"l\":0,\"b\":0})\n",
    "fig.update_layout(width =1024, height=720, font_size=20); \n",
    "fig.update_layout(legend_x=0.8) \n",
    "fig.update_layout(legend_y=0.8) \n",
    "fig.update_layout(legend=dict(font=dict(size= 16)))\n",
    "fig.update_layout(legend_title='Origin')\n",
    "#fig.show()\n",
    "\n",
    "#pio.write_image(fig, 'nyc_osm_dest_frozen.pdf')"
   ]
  },
  {
   "cell_type": "code",
   "execution_count": null,
   "metadata": {},
   "outputs": [],
   "source": [
    "# OSM destination, single origin\n",
    "\n",
    "fig = px.choropleth(pred_dest_orig_frozen, geojson=nyc_tracts, locations='w_geoid', featureidkey=\"properties.GEOID\",\\\n",
    "                 color='label',\n",
    "                 color_discrete_sequence=[\n",
    "                    'rgb(124, 252, 0)','rgb(107,174,214)','rgb(255, 0, 0)','rgb(255,255,255)']\n",
    "                 )\n",
    "\n",
    "fig.update_geos(fitbounds=\"locations\", visible=False)\n",
    "fig.update_traces(marker_line_width=0.1, marker_opacity=0.8)\n",
    "fig.update_layout(margin={\"r\":0,\"t\":0,\"l\":0,\"b\":0})\n",
    "fig.update_layout(width =1024, height=720, font_size=20); \n",
    "fig.update_layout(legend_x=0.8) \n",
    "fig.update_layout(legend_y=0.8) \n",
    "fig.update_layout(legend=dict(font=dict(size= 16)))\n",
    "fig.update_layout(legend_title='Destination')\n",
    "#fig.show()\n",
    "\n",
    "#pio.write_image(fig, 'nyc_osm_orig_frozen.pdf')"
   ]
  },
  {
   "cell_type": "code",
   "execution_count": null,
   "metadata": {},
   "outputs": [],
   "source": [
    "# GMEL origin, single destination\n",
    "\n",
    "fig = px.choropleth(GMEL_orig_dest_frozen, geojson=nyc_tracts, locations='h_geoid', featureidkey=\"properties.GEOID\",\\\n",
    "                 color='label',\n",
    "                 color_discrete_sequence=[\n",
    "                    'rgb(124, 252, 0)','rgb(107,174,214)','rgb(255, 0, 0)','rgb(255,255,255)']\n",
    "                    #'rgb(33,113,181)','rgb(8,48,107)','rgb(235, 249, 246)']\n",
    "                 )\n",
    "\n",
    "fig.update_geos(fitbounds=\"locations\", visible=False)\n",
    "fig.update_traces(marker_line_width=0.1, marker_opacity=0.8)\n",
    "fig.update_layout(margin={\"r\":0,\"t\":0,\"l\":0,\"b\":0})\n",
    "fig.update_layout(width =1024, height=720, font_size=20); \n",
    "fig.update_layout(legend_x=0.8) \n",
    "fig.update_layout(legend_y=0.8) \n",
    "fig.update_layout(legend=dict(font=dict(size= 16)))\n",
    "fig.update_layout(legend_title='Origin')\n",
    "#fig.show()\n",
    "\n",
    "#pio.write_image(fig, 'nyc_gmel_dest_frozen.pdf')"
   ]
  },
  {
   "cell_type": "code",
   "execution_count": null,
   "metadata": {},
   "outputs": [],
   "source": [
    "# GMEL destination, single origin\n",
    "\n",
    "fig = px.choropleth(GMEL_dest_orig_frozen, geojson=nyc_tracts, locations='w_geoid', featureidkey=\"properties.GEOID\",\\\n",
    "                 color='label',\n",
    "                 color_discrete_sequence=[\n",
    "                    'rgb(124, 252, 0)','rgb(107,174,214)','rgb(255, 0, 0)','rgb(255,255,255)']\n",
    "                 )\n",
    "\n",
    "fig.update_geos(fitbounds=\"locations\", visible=False)\n",
    "fig.update_traces(marker_line_width=0.1, marker_opacity=0.8)\n",
    "fig.update_layout(margin={\"r\":0,\"t\":0,\"l\":0,\"b\":0})\n",
    "fig.update_layout(width =1024, height=720, font_size=20); \n",
    "fig.update_layout(legend_x=0.8) \n",
    "fig.update_layout(legend_y=0.8) \n",
    "fig.update_layout(legend=dict(font=dict(size= 16)))\n",
    "fig.update_layout(legend_title='Destination')\n",
    "#fig.show()\n",
    "\n",
    "#pio.write_image(fig, 'nyc_gmel_orig_frozen.pdf')"
   ]
  },
  {
   "cell_type": "code",
   "execution_count": null,
   "metadata": {},
   "outputs": [],
   "source": [
    "gt_orig_dest_frozen.shape"
   ]
  },
  {
   "cell_type": "code",
   "execution_count": null,
   "metadata": {},
   "outputs": [],
   "source": [
    "gt_dest_orig_frozen.shape"
   ]
  },
  {
   "cell_type": "code",
   "execution_count": null,
   "metadata": {},
   "outputs": [],
   "source": [
    "gt_orig_dest_frozen.groupby(by='label').count()"
   ]
  },
  {
   "cell_type": "code",
   "execution_count": null,
   "metadata": {},
   "outputs": [],
   "source": [
    "gt_dest_orig_frozen.groupby(by='label').count()"
   ]
  },
  {
   "cell_type": "code",
   "execution_count": null,
   "metadata": {},
   "outputs": [],
   "source": []
  },
  {
   "attachments": {},
   "cell_type": "markdown",
   "metadata": {},
   "source": [
    "FFX analysis:"
   ]
  },
  {
   "cell_type": "code",
   "execution_count": null,
   "metadata": {},
   "outputs": [],
   "source": [
    "ffx_census = geopandas.read_file('ffx_data/ffx_census_tracts/ffx_census_2010.shp')\n",
    "ffx_census.head()\n",
    "ffx_all_geoids = ffx_census['GEOID']\n",
    "ffx_all_geoids = ffx_all_geoids.astype(int)\n",
    "ffx_all_geoids.shape"
   ]
  },
  {
   "cell_type": "markdown",
   "metadata": {},
   "source": [
    "Processing test set ground truth flows:"
   ]
  },
  {
   "cell_type": "code",
   "execution_count": null,
   "metadata": {},
   "outputs": [],
   "source": [
    "gt_flows_ffx = pd.read_csv('ffx_data/LODES/CommutingFlow_2015_test_exp.csv')  \n",
    "gt_flows_ffx = gt_flows_ffx.rename(columns={'count' : 'gt_count'})\n",
    "gt_flows_ffx.shape"
   ]
  },
  {
   "cell_type": "code",
   "execution_count": null,
   "metadata": {},
   "outputs": [],
   "source": [
    "gt_orig_ffx = gt_flows_ffx.groupby(['h_geoid'], as_index=False).sum()\n",
    "gt_dest_ffx = gt_flows_ffx.groupby(['w_geoid'], as_index=False).sum()"
   ]
  },
  {
   "cell_type": "code",
   "execution_count": null,
   "metadata": {},
   "outputs": [],
   "source": [
    "gt_orig_ffx[gt_orig_ffx['gt_count']==0].shape"
   ]
  },
  {
   "cell_type": "code",
   "execution_count": null,
   "metadata": {},
   "outputs": [],
   "source": [
    "gt_dest_ffx[gt_dest_ffx['gt_count']==0].shape"
   ]
  },
  {
   "cell_type": "code",
   "execution_count": null,
   "metadata": {},
   "outputs": [],
   "source": [
    "gt_dest_ffx.loc[gt_dest_ffx['gt_count']==0,'gt_count'] = 1\n",
    "gt_dest_ffx[gt_dest_ffx['gt_count']==0].shape"
   ]
  },
  {
   "cell_type": "markdown",
   "metadata": {},
   "source": [
    "Processing test set prediction flows using OSM features:   "
   ]
  },
  {
   "cell_type": "code",
   "execution_count": null,
   "metadata": {},
   "outputs": [],
   "source": [
    "pred_flows_ffx = pd.read_csv('ffx_predicted_flows_exp_osm.csv')\n",
    "pred_flows_ffx.shape"
   ]
  },
  {
   "cell_type": "code",
   "execution_count": null,
   "metadata": {},
   "outputs": [],
   "source": [
    "gt_flows_ffx[gt_flows_ffx['gt_count'] == 0].shape"
   ]
  },
  {
   "cell_type": "code",
   "execution_count": null,
   "metadata": {},
   "outputs": [],
   "source": [
    "pred_flows_ffx[pred_flows_ffx.pred_count == 0].shape"
   ]
  },
  {
   "cell_type": "code",
   "execution_count": null,
   "metadata": {},
   "outputs": [],
   "source": [
    "pred_flows_ffx[pred_flows_ffx['pred_count'] < 0]['pred_count'].shape"
   ]
  },
  {
   "cell_type": "code",
   "execution_count": null,
   "metadata": {},
   "outputs": [],
   "source": [
    "gt_flows_ffx[(pred_flows_ffx['pred_count'] < 0) & (gt_flows_ffx.gt_count==0)].shape"
   ]
  },
  {
   "cell_type": "code",
   "execution_count": null,
   "metadata": {},
   "outputs": [],
   "source": [
    "pred_flows_ffx[pred_flows_ffx['pred_count'] < 0]['pred_count'].sum()"
   ]
  },
  {
   "cell_type": "code",
   "execution_count": null,
   "metadata": {},
   "outputs": [],
   "source": [
    "pred_flows_ffx.loc[pred_flows_ffx['pred_count'] < 0, 'pred_count'] = 0\n",
    "pred_flows_ffx[pred_flows_ffx['pred_count'] < 0]['pred_count'].sum()"
   ]
  },
  {
   "cell_type": "code",
   "execution_count": null,
   "metadata": {},
   "outputs": [],
   "source": [
    "gt_flows_ffx['gt_count'].sum()"
   ]
  },
  {
   "cell_type": "code",
   "execution_count": null,
   "metadata": {},
   "outputs": [],
   "source": [
    "pred_flows_ffx['pred_count'].sum()"
   ]
  },
  {
   "cell_type": "code",
   "execution_count": null,
   "metadata": {},
   "outputs": [],
   "source": [
    "pred_orig_ffx = pred_flows_ffx.groupby(['h_geoid'], as_index=False).sum()\n",
    "pred_dest_ffx = pred_flows_ffx.groupby(['w_geoid'], as_index=False).sum()"
   ]
  },
  {
   "cell_type": "code",
   "execution_count": null,
   "metadata": {},
   "outputs": [],
   "source": [
    "gt_orig_ffx['gt_count'].sum()"
   ]
  },
  {
   "cell_type": "code",
   "execution_count": null,
   "metadata": {},
   "outputs": [],
   "source": [
    "pred_orig_ffx['pred_count'].sum()"
   ]
  },
  {
   "cell_type": "code",
   "execution_count": null,
   "metadata": {},
   "outputs": [],
   "source": [
    "gt_dest_ffx['gt_count'].sum()"
   ]
  },
  {
   "cell_type": "code",
   "execution_count": null,
   "metadata": {},
   "outputs": [],
   "source": [
    "pred_dest_ffx['pred_count'].sum()"
   ]
  },
  {
   "attachments": {},
   "cell_type": "markdown",
   "metadata": {},
   "source": [
    "FFX Scatter plots:"
   ]
  },
  {
   "cell_type": "code",
   "execution_count": null,
   "metadata": {},
   "outputs": [],
   "source": [
    "fig = px.scatter(x=gt_orig_ffx.gt_count, y=pred_orig_ffx.pred_count, #trendline='ols',\n",
    "                 labels={\n",
    "                     'x': 'Ground truth commuters count',\n",
    "                     'y': 'Prediction commuters count'\n",
    "                 })\n",
    "fig.update_layout(xaxis_range=[-50,950])\n",
    "fig.update_layout(yaxis_range=[-50,950])\n",
    "fig.update_layout(width =1024, height=720, font_size=24)\n",
    "\n",
    "fig.add_shape(type=\"line\",x0=0, y0=0, x1=900, y1=900,\n",
    "    line=dict(color='#636EFA',width=2)\n",
    ")\n",
    "#fig.show()\n",
    "#pio.write_image(fig, 'ffx_osm_origin_scatter.pdf')"
   ]
  },
  {
   "cell_type": "code",
   "execution_count": null,
   "metadata": {},
   "outputs": [],
   "source": [
    "fig = px.scatter(x=gt_dest_ffx.gt_count, y=pred_dest_ffx.pred_count,log_x=True, log_y=True, #trendline='ols',\n",
    "                 labels={\n",
    "                     'x': 'Ground truth commuters count',\n",
    "                     'y': 'Prediction commuters count'\n",
    "                 })\n",
    "fig.update_layout(width =1024, height=720, font_size=24)\n",
    "\n",
    "fig.add_shape(type=\"line\",x0=1, y0=1, x1=6000, y1=6000,\n",
    "    line=dict(color='#636EFA',width=2)\n",
    ")\n",
    "#fig.show()\n",
    "#pio.write_image(fig, 'ffx_osm_destination_log_scatter.pdf')"
   ]
  },
  {
   "attachments": {},
   "cell_type": "markdown",
   "metadata": {},
   "source": [
    "FFX stats:"
   ]
  },
  {
   "cell_type": "code",
   "execution_count": null,
   "metadata": {},
   "outputs": [],
   "source": [
    "gt_orig_ffx.describe().gt_count.to_frame().rename(columns={'gt_count' : 'GT origin stats'})"
   ]
  },
  {
   "cell_type": "code",
   "execution_count": null,
   "metadata": {},
   "outputs": [],
   "source": [
    "gt_dest_ffx.describe().gt_count.to_frame().rename(columns={'gt_count' : 'GT destination stats'})"
   ]
  },
  {
   "attachments": {},
   "cell_type": "markdown",
   "metadata": {},
   "source": [
    "FFX histograms with 10% bins:"
   ]
  },
  {
   "cell_type": "code",
   "execution_count": null,
   "metadata": {},
   "outputs": [],
   "source": [
    "# delta percentage of all origin flows\n",
    "\n",
    "delta_orig_ffx = gt_orig_ffx[['h_geoid', 'gt_count']]\n",
    "delta_orig_ffx['pred_count'] = pred_orig_ffx['pred_count']\n",
    "delta_orig_ffx['delta'] = pred_orig_ffx['pred_count'] - gt_orig_ffx['gt_count']\n",
    "delta_orig_ffx['delta_percent'] = ((delta_orig_ffx['delta'] / delta_orig_ffx['gt_count'])*100)\n",
    "delta_orig_ffx = delta_orig_ffx.sort_values(by=['delta_percent'], ascending=False)\n",
    "delta_orig_ffx"
   ]
  },
  {
   "cell_type": "code",
   "execution_count": null,
   "metadata": {},
   "outputs": [],
   "source": [
    "# delta percentage of all destination flows\n",
    "\n",
    "delta_dest_ffx = gt_dest_ffx[['w_geoid', 'gt_count']]\n",
    "delta_dest_ffx['pred_count'] = pred_dest_ffx['pred_count']\n",
    "delta_dest_ffx['delta'] = pred_dest_ffx['pred_count'] - gt_dest_ffx['gt_count']\n",
    "delta_dest_ffx['delta_percent'] = ((delta_dest_ffx['delta'] / delta_dest_ffx['gt_count'])*100)\n",
    "delta_dest_ffx = delta_dest_ffx.sort_values(by=['delta_percent'], ascending=False)\n",
    "delta_dest_ffx"
   ]
  },
  {
   "cell_type": "code",
   "execution_count": null,
   "metadata": {},
   "outputs": [],
   "source": [
    "# OSM orign flows\n",
    "\n",
    "delta_below_zero = delta_orig_ffx[delta_orig_ffx.delta_percent < 0]\n",
    "delta_equals_zero = delta_orig_ffx[delta_orig_ffx.delta_percent == 0]\n",
    "delta_above_zero = delta_orig_ffx[delta_orig_ffx.delta_percent > 0]\n",
    "print(delta_below_zero.shape)\n",
    "print(delta_equals_zero.shape)\n",
    "print(delta_above_zero.shape)"
   ]
  },
  {
   "cell_type": "code",
   "execution_count": null,
   "metadata": {},
   "outputs": [],
   "source": [
    "bin_min = delta_orig_ffx.delta_percent.min()\n",
    "bin_max = delta_orig_ffx.delta_percent.max()\n",
    "print(bin_min)\n",
    "print(bin_max)"
   ]
  },
  {
   "cell_type": "code",
   "execution_count": null,
   "metadata": {},
   "outputs": [],
   "source": [
    "bins_below_zeros = [-50.000000001, -40.000000001, -30.000000001, \n",
    "                    -20.000000001, -10.000000001,  -0.000000001]\n",
    "bins_above_zeros = [0.000000001, 10.000000001, 20.000000001, 30.000000001, 40.000000001, 50.000000001,\n",
    "                     60.000000001, 70.000000001, 80.000000001, 90.000000001, 100.000000001, bin_max]\n",
    "\n",
    "labels_below = ['- 41-50%', '- 31-40%','- 21-30%', '- 11-20%','- up to 10%']\n",
    "lables_above = ['+ up to 10%', '+ 11-20%','+ 21-30%', '+ 31-40%','+ 41-50%', '+ 51-60%','+ 61-70%', '+ 71-80%',\n",
    "                '+ 81-90%', '+ 91-100%',' > 100%']"
   ]
  },
  {
   "cell_type": "code",
   "execution_count": null,
   "metadata": {},
   "outputs": [],
   "source": [
    "pd.cut(delta_below_zero['delta_percent'], precision=9,\n",
    "                                bins=bins_below_zeros,retbins=True,include_lowest=True)[0].cat.categories"
   ]
  },
  {
   "cell_type": "code",
   "execution_count": null,
   "metadata": {},
   "outputs": [],
   "source": [
    "pd.cut(delta_above_zero['delta_percent'], precision=9,\n",
    "                                bins=bins_above_zeros,retbins=True,include_lowest=True)[0].cat.categories"
   ]
  },
  {
   "cell_type": "code",
   "execution_count": null,
   "metadata": {},
   "outputs": [],
   "source": [
    "delta_below_zero.insert(delta_below_zero.shape[1],\n",
    "                        'delta_label',\n",
    "                        pd.cut(delta_below_zero['delta_percent'], precision=9,\n",
    "                                bins=bins_below_zeros,\n",
    "                                labels=labels_below, include_lowest = True))\n",
    "\n",
    "delta_below_zero"
   ]
  },
  {
   "cell_type": "code",
   "execution_count": null,
   "metadata": {},
   "outputs": [],
   "source": [
    "delta_above_zero.insert(delta_above_zero.shape[1],\n",
    "                        'delta_label',\n",
    "                        pd.cut(delta_above_zero['delta_percent'], precision=9,\n",
    "                                bins=bins_above_zeros,\n",
    "                                labels=lables_above, include_lowest = True))\n",
    "\n",
    "delta_above_zero                                "
   ]
  },
  {
   "cell_type": "code",
   "execution_count": null,
   "metadata": {},
   "outputs": [],
   "source": [
    "delta_orig_ffx_binned = pd.concat([delta_below_zero, delta_above_zero], ignore_index=True)\n",
    "delta_orig_ffx_binned = delta_orig_ffx_binned.sort_values(by=['delta_percent'])\n",
    "delta_orig_ffx_binned.shape"
   ]
  },
  {
   "cell_type": "code",
   "execution_count": null,
   "metadata": {},
   "outputs": [],
   "source": [
    "delta_orig_ffx_binned.isnull().values.any()"
   ]
  },
  {
   "cell_type": "code",
   "execution_count": null,
   "metadata": {},
   "outputs": [],
   "source": [
    "data = [[0,0.000000001,0,0,0,' < 100%'], [0,0.000000001,0,0,0,'- 91-100%'],\n",
    "        [0,0.000000001,0,0,0,'- 81-90%'],[0,0.000000001,0,0,0,'- 71-80%'],\n",
    "        [0,0.000000001,0,0,0,'- 61-70%'],[0,0.000000001,0,0,0,'- 51-60%']]\n",
    "empty_bins = pd.DataFrame(data,columns=delta_orig_ffx_binned.columns.to_list())"
   ]
  },
  {
   "cell_type": "code",
   "execution_count": null,
   "metadata": {},
   "outputs": [],
   "source": [
    "delta_orig_ffx_binned = pd.concat([empty_bins, delta_orig_ffx_binned], ignore_index=True)\n",
    "delta_orig_ffx_binned.shape"
   ]
  },
  {
   "cell_type": "code",
   "execution_count": null,
   "metadata": {},
   "outputs": [],
   "source": []
  },
  {
   "cell_type": "code",
   "execution_count": null,
   "metadata": {},
   "outputs": [],
   "source": [
    "# OSM destination flows\n",
    "\n",
    "delta_below_zero = delta_dest_ffx[delta_dest_ffx.delta_percent < 0]\n",
    "delta_equals_zero = delta_dest_ffx[delta_dest_ffx.delta_percent == 0]\n",
    "delta_above_zero = delta_dest_ffx[delta_dest_ffx.delta_percent > 0]\n",
    "print(delta_below_zero.shape)\n",
    "print(delta_equals_zero.shape)\n",
    "print(delta_above_zero.shape)"
   ]
  },
  {
   "cell_type": "code",
   "execution_count": null,
   "metadata": {},
   "outputs": [],
   "source": [
    "bin_min = delta_dest_ffx.delta_percent.min()\n",
    "bin_max = delta_dest_ffx.delta_percent.max()\n",
    "print(bin_min)\n",
    "print(bin_max)"
   ]
  },
  {
   "cell_type": "code",
   "execution_count": null,
   "metadata": {},
   "outputs": [],
   "source": [
    "bins_below_zeros = [-90.000000001,-80.000000001,-70.000000001, -60.000000001, -50.000000001, -40.000000001,\n",
    "                    -30.000000001, -20.000000001, -10.000000001,  -0.000000001]\n",
    "bins_above_zeros = [0.000000001, 10.000000001, 20.000000001, 30.000000001, 40.000000001, 50.000000001,\n",
    "                     60.000000001, 70.000000001, 80.000000001, 90.000000001, 100.000000001, bin_max]\n",
    "\n",
    "labels_below = ['- 81-90%', '- 71-80%', '- 61-70%', '- 51-60%','- 41-50%', '- 31-40%','- 21-30%', \n",
    "                '- 11-20%','- up to 10%']\n",
    "lables_above = ['+ up to 10%', '+ 11-20%','+ 21-30%', '+ 31-40%','+ 41-50%', '+ 51-60%','+ 61-70%', '+ 71-80%',\n",
    "                '+ 81-90%', '+ 91-100%',' > 100%']"
   ]
  },
  {
   "cell_type": "code",
   "execution_count": null,
   "metadata": {},
   "outputs": [],
   "source": [
    "pd.cut(delta_below_zero['delta_percent'], precision=9,\n",
    "                                bins=bins_below_zeros,retbins=True,include_lowest=True)[0].cat.categories"
   ]
  },
  {
   "cell_type": "code",
   "execution_count": null,
   "metadata": {},
   "outputs": [],
   "source": [
    "pd.cut(delta_above_zero['delta_percent'], precision=9,\n",
    "                                bins=bins_above_zeros,retbins=True,include_lowest=True)[0].cat.categories"
   ]
  },
  {
   "cell_type": "code",
   "execution_count": null,
   "metadata": {},
   "outputs": [],
   "source": [
    "delta_below_zero.insert(delta_below_zero.shape[1],\n",
    "                        'delta_label',\n",
    "                        pd.cut(delta_below_zero['delta_percent'], precision=9,\n",
    "                                bins=bins_below_zeros,\n",
    "                                labels=labels_below, include_lowest = True))\n",
    "\n",
    "delta_below_zero"
   ]
  },
  {
   "cell_type": "code",
   "execution_count": null,
   "metadata": {},
   "outputs": [],
   "source": [
    "delta_above_zero.insert(delta_above_zero.shape[1],\n",
    "                        'delta_label',\n",
    "                        pd.cut(delta_above_zero['delta_percent'], precision=9,\n",
    "                                bins=bins_above_zeros,\n",
    "                                labels=lables_above, include_lowest = True))\n",
    "\n",
    "delta_above_zero                                "
   ]
  },
  {
   "cell_type": "code",
   "execution_count": null,
   "metadata": {},
   "outputs": [],
   "source": [
    "delta_dest_ffx_binned = pd.concat([delta_below_zero, delta_above_zero], ignore_index=True)\n",
    "delta_dest_ffx_binned = delta_dest_ffx_binned.sort_values(by=['delta_percent'])\n",
    "delta_dest_ffx_binned.shape"
   ]
  },
  {
   "cell_type": "code",
   "execution_count": null,
   "metadata": {},
   "outputs": [],
   "source": [
    "delta_dest_ffx_binned.isnull().values.any()"
   ]
  },
  {
   "cell_type": "code",
   "execution_count": null,
   "metadata": {},
   "outputs": [],
   "source": [
    "data = [[0,0.000000001,0,0,0,' < 100%'], [0,0.000000001,0,0,0,'- 91-100%']]\n",
    "empty_bins = pd.DataFrame(data,columns=delta_dest_ffx_binned.columns.to_list())"
   ]
  },
  {
   "cell_type": "code",
   "execution_count": null,
   "metadata": {},
   "outputs": [],
   "source": [
    "delta_dest_ffx_binned = pd.concat([empty_bins, delta_dest_ffx_binned], ignore_index=True)\n",
    "delta_dest_ffx_binned.shape"
   ]
  },
  {
   "cell_type": "code",
   "execution_count": null,
   "metadata": {},
   "outputs": [],
   "source": [
    "# delta percentages histogram of all origin flows using OSM features\n",
    "\n",
    "fig = px.histogram(delta_orig_ffx_binned,x='delta_label',y='gt_count',\n",
    "                   labels={'delta_label':'delta percentage','gt_count':'commuters'})\n",
    "fig.update_layout(yaxis_range=[0,10000])\n",
    "fig.update_layout(width =1024, height=720, font_size=24); \n",
    "#fig.show()\n",
    "#pio.write_image(fig, 'ffx_osm_origin_hist.pdf')"
   ]
  },
  {
   "cell_type": "code",
   "execution_count": null,
   "metadata": {},
   "outputs": [],
   "source": [
    "# delta percentages histogram of all destination flows using OSM features\n",
    "\n",
    "fig = px.histogram(delta_dest_ffx_binned,x='delta_label',y='gt_count',\n",
    "                   labels={'delta_label':'delta percentage','gt_count':'commuters'})\n",
    "fig.update_layout(yaxis_range=[0,10000])\n",
    "fig.update_layout(width =1024, height=720, font_size=24)\n",
    "#fig.show()\n",
    "#pio.write_image(fig, 'ffx_osm_destination_hist.pdf')"
   ]
  },
  {
   "cell_type": "code",
   "execution_count": null,
   "metadata": {},
   "outputs": [],
   "source": []
  },
  {
   "attachments": {},
   "cell_type": "markdown",
   "metadata": {},
   "source": [
    "Processing FFX transfer learning test set prediction flows using OSM features:   "
   ]
  },
  {
   "cell_type": "code",
   "execution_count": null,
   "metadata": {},
   "outputs": [],
   "source": [
    "pred_flows_ffx = pd.read_csv('ffx_predicted_flows_exp_osm_transfer.csv')\n",
    "pred_flows_ffx.shape"
   ]
  },
  {
   "cell_type": "code",
   "execution_count": null,
   "metadata": {},
   "outputs": [],
   "source": [
    "gt_flows_ffx[gt_flows_ffx['gt_count'] == 0].shape"
   ]
  },
  {
   "cell_type": "code",
   "execution_count": null,
   "metadata": {},
   "outputs": [],
   "source": [
    "pred_flows_ffx[pred_flows_ffx.pred_count == 0].shape"
   ]
  },
  {
   "cell_type": "code",
   "execution_count": null,
   "metadata": {},
   "outputs": [],
   "source": [
    "pred_flows_ffx[pred_flows_ffx['pred_count'] < 0]['pred_count'].shape"
   ]
  },
  {
   "cell_type": "code",
   "execution_count": null,
   "metadata": {},
   "outputs": [],
   "source": [
    "gt_flows_ffx[(pred_flows_ffx['pred_count'] < 0) & (gt_flows_ffx.gt_count==0)].shape"
   ]
  },
  {
   "cell_type": "code",
   "execution_count": null,
   "metadata": {},
   "outputs": [],
   "source": [
    "pred_flows_ffx[pred_flows_ffx['pred_count'] < 0]['pred_count'].sum()"
   ]
  },
  {
   "cell_type": "code",
   "execution_count": null,
   "metadata": {},
   "outputs": [],
   "source": [
    "pred_flows_ffx.loc[pred_flows_ffx['pred_count'] < 0, 'pred_count'] = 0\n",
    "pred_flows_ffx[pred_flows_ffx['pred_count'] < 0]['pred_count'].sum()"
   ]
  },
  {
   "cell_type": "code",
   "execution_count": null,
   "metadata": {},
   "outputs": [],
   "source": [
    "gt_flows_ffx['gt_count'].sum()"
   ]
  },
  {
   "cell_type": "code",
   "execution_count": null,
   "metadata": {},
   "outputs": [],
   "source": [
    "pred_flows_ffx['pred_count'].sum()"
   ]
  },
  {
   "cell_type": "code",
   "execution_count": null,
   "metadata": {},
   "outputs": [],
   "source": [
    "pred_orig_ffx = pred_flows_ffx.groupby(['h_geoid'], as_index=False).sum()\n",
    "pred_dest_ffx = pred_flows_ffx.groupby(['w_geoid'], as_index=False).sum()"
   ]
  },
  {
   "cell_type": "code",
   "execution_count": null,
   "metadata": {},
   "outputs": [],
   "source": [
    "gt_orig_ffx['gt_count'].sum()"
   ]
  },
  {
   "cell_type": "code",
   "execution_count": null,
   "metadata": {},
   "outputs": [],
   "source": [
    "pred_orig_ffx['pred_count'].sum()"
   ]
  },
  {
   "cell_type": "code",
   "execution_count": null,
   "metadata": {},
   "outputs": [],
   "source": [
    "gt_dest_ffx['gt_count'].sum()"
   ]
  },
  {
   "cell_type": "code",
   "execution_count": null,
   "metadata": {},
   "outputs": [],
   "source": [
    "pred_dest_ffx['pred_count'].sum()"
   ]
  },
  {
   "attachments": {},
   "cell_type": "markdown",
   "metadata": {},
   "source": [
    "FFX Scatter plots:"
   ]
  },
  {
   "cell_type": "code",
   "execution_count": null,
   "metadata": {},
   "outputs": [],
   "source": [
    "fig = px.scatter(x=gt_orig_ffx.gt_count, y=pred_orig_ffx.pred_count, #trendline='ols',\n",
    "                 labels={\n",
    "                     'x': 'Ground truth origin count',\n",
    "                     'y': 'OSM features origin prediction count'\n",
    "                 })\n",
    "fig.update_layout(xaxis_range=[-50,950])\n",
    "fig.update_layout(yaxis_range=[-50,950])\n",
    "fig.update_layout(width =1024, height=720, font_size=24)\n",
    "\n",
    "fig.add_shape(type=\"line\",x0=0, y0=0, x1=900, y1=900,\n",
    "    line=dict(color='#636EFA',width=2)\n",
    ")\n",
    "#fig.show()\n",
    "\n",
    "#pio.write_image(fig, 'ffx_osm_origin_scatter_transfer.pdf')"
   ]
  },
  {
   "cell_type": "code",
   "execution_count": null,
   "metadata": {},
   "outputs": [],
   "source": [
    "fig = px.scatter(x=gt_dest_ffx.gt_count, y=pred_dest_ffx.pred_count,log_x=True, log_y=True, #trendline='ols',\n",
    "                 labels={\n",
    "                     'x': 'Ground truth destination count',\n",
    "                     'y': 'OSM features destination prediction count'\n",
    "                 })\n",
    "fig.update_layout(width =1024, height=720, font_size=24)\n",
    "\n",
    "fig.add_shape(type=\"line\",x0=1, y0=1, x1=6000, y1=6000,\n",
    "    line=dict(color='#636EFA',width=2)\n",
    ")\n",
    "#fig.show()\n",
    "\n",
    "#pio.write_image(fig, 'ffx_osm_destination_log_scatter_transfer.pdf')"
   ]
  },
  {
   "attachments": {},
   "cell_type": "markdown",
   "metadata": {},
   "source": [
    "FFX histograms with 10% bins:"
   ]
  },
  {
   "cell_type": "code",
   "execution_count": null,
   "metadata": {},
   "outputs": [],
   "source": [
    "# delta percentage of all origin flows\n",
    "\n",
    "delta_orig_ffx = gt_orig_ffx[['h_geoid', 'gt_count']]\n",
    "delta_orig_ffx['pred_count'] = pred_orig_ffx['pred_count']\n",
    "delta_orig_ffx['delta'] = pred_orig_ffx['pred_count'] - gt_orig_ffx['gt_count']\n",
    "delta_orig_ffx['delta_percent'] = ((delta_orig_ffx['delta'] / delta_orig_ffx['gt_count'])*100)\n",
    "delta_orig_ffx = delta_orig_ffx.sort_values(by=['delta_percent'], ascending=False)\n",
    "delta_orig_ffx"
   ]
  },
  {
   "cell_type": "code",
   "execution_count": null,
   "metadata": {},
   "outputs": [],
   "source": [
    "# delta percentage of all destination flows\n",
    "\n",
    "delta_dest_ffx = gt_dest_ffx[['w_geoid', 'gt_count']]\n",
    "delta_dest_ffx['pred_count'] = pred_dest_ffx['pred_count']\n",
    "delta_dest_ffx['delta'] = pred_dest_ffx['pred_count'] - gt_dest_ffx['gt_count']\n",
    "delta_dest_ffx['delta_percent'] = ((delta_dest_ffx['delta'] / delta_dest_ffx['gt_count'])*100)\n",
    "delta_dest_ffx = delta_dest_ffx.sort_values(by=['delta_percent'], ascending=False)\n",
    "delta_dest_ffx"
   ]
  },
  {
   "cell_type": "code",
   "execution_count": null,
   "metadata": {},
   "outputs": [],
   "source": [
    "# OSM orign flows\n",
    "\n",
    "delta_below_zero = delta_orig_ffx[delta_orig_ffx.delta_percent < 0]\n",
    "delta_equals_zero = delta_orig_ffx[delta_orig_ffx.delta_percent == 0]\n",
    "delta_above_zero = delta_orig_ffx[delta_orig_ffx.delta_percent > 0]\n",
    "print(delta_below_zero.shape)\n",
    "print(delta_equals_zero.shape)\n",
    "print(delta_above_zero.shape)"
   ]
  },
  {
   "cell_type": "code",
   "execution_count": null,
   "metadata": {},
   "outputs": [],
   "source": [
    "bin_min = delta_orig_ffx.delta_percent.min()\n",
    "bin_max = delta_orig_ffx.delta_percent.max()\n",
    "print(bin_min)\n",
    "print(bin_max)"
   ]
  },
  {
   "cell_type": "code",
   "execution_count": null,
   "metadata": {},
   "outputs": [],
   "source": [
    "bins_below_zeros = [-70.000000001, -60.000000001, -50.000000001, -40.000000001, -30.000000001, \n",
    "                    -20.000000001, -10.000000001,  -0.000000001]\n",
    "bins_above_zeros = [0.000000001, 10.000000001, 20.000000001, 30.000000001, 40.000000001, 50.000000001,\n",
    "                     60.000000001, 70.000000001, 80.000000001, 90.000000001, 100.000000001, bin_max]\n",
    "\n",
    "labels_below = ['- 61-70%', '- 51-60%', '- 41-50%', '- 31-40%','- 21-30%', '- 11-20%','- up to 10%']\n",
    "lables_above = ['+ up to 10%', '+ 11-20%','+ 21-30%', '+ 31-40%','+ 41-50%', '+ 51-60%','+ 61-70%', '+ 71-80%',\n",
    "                '+ 81-90%', '+ 91-100%',' > 100%']"
   ]
  },
  {
   "cell_type": "code",
   "execution_count": null,
   "metadata": {},
   "outputs": [],
   "source": [
    "pd.cut(delta_below_zero['delta_percent'], precision=9,\n",
    "                                bins=bins_below_zeros,retbins=True,include_lowest=True)[0].cat.categories"
   ]
  },
  {
   "cell_type": "code",
   "execution_count": null,
   "metadata": {},
   "outputs": [],
   "source": [
    "pd.cut(delta_above_zero['delta_percent'], precision=9,\n",
    "                                bins=bins_above_zeros,retbins=True,include_lowest=True)[0].cat.categories"
   ]
  },
  {
   "cell_type": "code",
   "execution_count": null,
   "metadata": {},
   "outputs": [],
   "source": [
    "delta_below_zero.insert(delta_below_zero.shape[1],\n",
    "                        'delta_label',\n",
    "                        pd.cut(delta_below_zero['delta_percent'], precision=9,\n",
    "                                bins=bins_below_zeros,\n",
    "                                labels=labels_below, include_lowest = True))\n",
    "\n",
    "delta_below_zero"
   ]
  },
  {
   "cell_type": "code",
   "execution_count": null,
   "metadata": {},
   "outputs": [],
   "source": [
    "delta_above_zero.insert(delta_above_zero.shape[1],\n",
    "                        'delta_label',\n",
    "                        pd.cut(delta_above_zero['delta_percent'], precision=9,\n",
    "                                bins=bins_above_zeros,\n",
    "                                labels=lables_above, include_lowest = True))\n",
    "\n",
    "delta_above_zero                                "
   ]
  },
  {
   "cell_type": "code",
   "execution_count": null,
   "metadata": {},
   "outputs": [],
   "source": [
    "delta_orig_ffx_binned = pd.concat([delta_below_zero, delta_above_zero], ignore_index=True)\n",
    "delta_orig_ffx_binned = delta_orig_ffx_binned.sort_values(by=['delta_percent'])\n",
    "delta_orig_ffx_binned.shape"
   ]
  },
  {
   "cell_type": "code",
   "execution_count": null,
   "metadata": {},
   "outputs": [],
   "source": [
    "delta_orig_ffx_binned.isnull().values.any()"
   ]
  },
  {
   "cell_type": "code",
   "execution_count": null,
   "metadata": {},
   "outputs": [],
   "source": [
    "data = [[0,0.000000001,0,0,0,' < 100%'], [0,0.000000001,0,0,0,'- 91-100%'],\n",
    "        [0,0.000000001,0,0,0,'- 81-90%'],[0,0.000000001,0,0,0,'- 71-80%']]\n",
    "empty_bins = pd.DataFrame(data,columns=delta_orig_ffx_binned.columns.to_list())"
   ]
  },
  {
   "cell_type": "code",
   "execution_count": null,
   "metadata": {},
   "outputs": [],
   "source": [
    "delta_orig_ffx_binned = pd.concat([empty_bins, delta_orig_ffx_binned], ignore_index=True)\n",
    "delta_orig_ffx_binned.shape"
   ]
  },
  {
   "cell_type": "code",
   "execution_count": null,
   "metadata": {},
   "outputs": [],
   "source": []
  },
  {
   "cell_type": "code",
   "execution_count": null,
   "metadata": {},
   "outputs": [],
   "source": [
    "# OSM destination flows\n",
    "\n",
    "delta_below_zero = delta_dest_ffx[delta_dest_ffx.delta_percent < 0]\n",
    "delta_equals_zero = delta_dest_ffx[delta_dest_ffx.delta_percent == 0]\n",
    "delta_above_zero = delta_dest_ffx[delta_dest_ffx.delta_percent > 0]\n",
    "print(delta_below_zero.shape)\n",
    "print(delta_equals_zero.shape)\n",
    "print(delta_above_zero.shape)"
   ]
  },
  {
   "cell_type": "code",
   "execution_count": null,
   "metadata": {},
   "outputs": [],
   "source": [
    "bin_min = delta_dest_ffx.delta_percent.min()\n",
    "bin_max = delta_dest_ffx.delta_percent.max()\n",
    "print(bin_min)\n",
    "print(bin_max)"
   ]
  },
  {
   "cell_type": "code",
   "execution_count": null,
   "metadata": {},
   "outputs": [],
   "source": [
    "bins_below_zeros = [-80.000000001,-70.000000001, -60.000000001, -50.000000001, -40.000000001,\n",
    "                    -30.000000001, -20.000000001, -10.000000001,  -0.000000001]\n",
    "bins_above_zeros = [0.000000001, 10.000000001, 20.000000001, 30.000000001, 40.000000001, 50.000000001,\n",
    "                     60.000000001, 70.000000001, 80.000000001, 90.000000001, 100.000000001, bin_max]\n",
    "\n",
    "labels_below = ['- 71-80%', '- 61-70%', '- 51-60%','- 41-50%', '- 31-40%','- 21-30%', \n",
    "                '- 11-20%','- up to 10%']\n",
    "lables_above = ['+ up to 10%', '+ 11-20%','+ 21-30%', '+ 31-40%','+ 41-50%', '+ 51-60%','+ 61-70%', '+ 71-80%',\n",
    "                '+ 81-90%', '+ 91-100%',' > 100%']"
   ]
  },
  {
   "cell_type": "code",
   "execution_count": null,
   "metadata": {},
   "outputs": [],
   "source": [
    "pd.cut(delta_below_zero['delta_percent'], precision=9,\n",
    "                                bins=bins_below_zeros,retbins=True,include_lowest=True)[0].cat.categories"
   ]
  },
  {
   "cell_type": "code",
   "execution_count": null,
   "metadata": {},
   "outputs": [],
   "source": [
    "pd.cut(delta_above_zero['delta_percent'], precision=9,\n",
    "                                bins=bins_above_zeros,retbins=True,include_lowest=True)[0].cat.categories"
   ]
  },
  {
   "cell_type": "code",
   "execution_count": null,
   "metadata": {},
   "outputs": [],
   "source": [
    "delta_below_zero.insert(delta_below_zero.shape[1],\n",
    "                        'delta_label',\n",
    "                        pd.cut(delta_below_zero['delta_percent'], precision=9,\n",
    "                                bins=bins_below_zeros,\n",
    "                                labels=labels_below, include_lowest = True))\n",
    "\n",
    "delta_below_zero"
   ]
  },
  {
   "cell_type": "code",
   "execution_count": null,
   "metadata": {},
   "outputs": [],
   "source": [
    "delta_above_zero.insert(delta_above_zero.shape[1],\n",
    "                        'delta_label',\n",
    "                        pd.cut(delta_above_zero['delta_percent'], precision=9,\n",
    "                                bins=bins_above_zeros,\n",
    "                                labels=lables_above, include_lowest = True))\n",
    "\n",
    "delta_above_zero                                "
   ]
  },
  {
   "cell_type": "code",
   "execution_count": null,
   "metadata": {},
   "outputs": [],
   "source": [
    "delta_dest_ffx_binned = pd.concat([delta_below_zero, delta_above_zero], ignore_index=True)\n",
    "delta_dest_ffx_binned = delta_dest_ffx_binned.sort_values(by=['delta_percent'])\n",
    "delta_dest_ffx_binned.shape"
   ]
  },
  {
   "cell_type": "code",
   "execution_count": null,
   "metadata": {},
   "outputs": [],
   "source": [
    "delta_dest_ffx_binned.isnull().values.any()"
   ]
  },
  {
   "cell_type": "code",
   "execution_count": null,
   "metadata": {},
   "outputs": [],
   "source": [
    "data = [[0,0.000000001,0,0,0,' < 100%'], [0,0.000000001,0,0,0,'- 91-100%'], [0,0.000000001,0,0,0,'- 81-90%']]\n",
    "empty_bins = pd.DataFrame(data,columns=delta_dest_ffx_binned.columns.to_list())"
   ]
  },
  {
   "cell_type": "code",
   "execution_count": null,
   "metadata": {},
   "outputs": [],
   "source": [
    "delta_dest_ffx_binned = pd.concat([empty_bins, delta_dest_ffx_binned], ignore_index=True)\n",
    "delta_dest_ffx_binned.shape"
   ]
  },
  {
   "cell_type": "code",
   "execution_count": null,
   "metadata": {},
   "outputs": [],
   "source": [
    "# delta percentages histogram of all origin flows using OSM features\n",
    "\n",
    "fig = px.histogram(delta_orig_ffx_binned,x='delta_label',y='gt_count',\n",
    "                   labels={'delta_label':'delta percentage','gt_count':'commuters'})\n",
    "fig.update_layout(yaxis_range=[0,10000])\n",
    "fig.update_layout(width =1024, height=720, font_size=24); \n",
    "#fig.show()\n",
    "#pio.write_image(fig, 'ffx_osm_origin_hist_transfer.pdf')"
   ]
  },
  {
   "cell_type": "code",
   "execution_count": null,
   "metadata": {},
   "outputs": [],
   "source": [
    "# delta percentages histogram of all destination flows using OSM features\n",
    "\n",
    "fig = px.histogram(delta_dest_ffx_binned,x='delta_label',y='gt_count',\n",
    "                   labels={'delta_label':'delta percentage','gt_count':'commuters'})\n",
    "fig.update_layout(yaxis_range=[0,14000])\n",
    "fig.update_layout(width =1024, height=720, font_size=24)\n",
    "#fig.show()\n",
    "#pio.write_image(fig, 'ffx_osm_destination_hist_transfer.pdf')"
   ]
  },
  {
   "cell_type": "code",
   "execution_count": null,
   "metadata": {},
   "outputs": [],
   "source": [
    "# All results end!"
   ]
  }
 ],
 "metadata": {
  "kernelspec": {
   "display_name": "geo_env",
   "language": "python",
   "name": "python3"
  },
  "language_info": {
   "codemirror_mode": {
    "name": "ipython",
    "version": 3
   },
   "file_extension": ".py",
   "mimetype": "text/x-python",
   "name": "python",
   "nbconvert_exporter": "python",
   "pygments_lexer": "ipython3",
   "version": "3.9.10"
  },
  "orig_nbformat": 4,
  "vscode": {
   "interpreter": {
    "hash": "6e01ae1a5b6cec6d00c8cdda64aa3f8496ad213319a5f14e20b079aa3c21f8e3"
   }
  }
 },
 "nbformat": 4,
 "nbformat_minor": 2
}
